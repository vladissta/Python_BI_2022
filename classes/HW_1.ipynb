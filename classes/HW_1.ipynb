{
 "cells": [
  {
   "cell_type": "markdown",
   "id": "7c5a538f-2dbe-445c-9f46-cf0dc18867e4",
   "metadata": {
    "id": "7c5a538f-2dbe-445c-9f46-cf0dc18867e4"
   },
   "source": [
    "# Задание 1 (5 баллов)"
   ]
  },
  {
   "cell_type": "markdown",
   "id": "1e8cc3b0-6f60-40da-8058-30d9eb434daf",
   "metadata": {
    "id": "1e8cc3b0-6f60-40da-8058-30d9eb434daf"
   },
   "source": [
    "Напишите классы **Chat**, **Message** и **User**. Они должны соответствовать следующим требованиям:\n",
    "\n",
    "**Chat**:\n",
    "+ Должен иметь атрибут `chat_history`, где будут храниться все сообщения (`Message`) в обратном хронологическом порядке (сначала новые, затем старые)\n",
    "+ Должен иметь метод `show_last_message`, выводящий на экран информацию о последнем сообщении\n",
    "+ Должен иметь метод `get_history_from_time_period`, который принимает два опциональных аргумента (даты с которой и по какую мы ищем сообщения и выдаём их). Метод также должен возвращать объект типа `Chat`\n",
    "+ Должен иметь метод `show_chat`, выводящий на экран все сообщения (каждое сообщение в таком же виде как и `show_last_message`, но с разделителем между ними)\n",
    "+ Должен иметь метод `recieve`, который будет принимать сообщение и добавлять его в чат\n",
    "\n",
    "**Message**:\n",
    "+ Должен иметь три обязательных атрибута\n",
    "    + `text` - текст сообщения\n",
    "    + `datetime` - дата и время сообщения (встроенный модуль datetime вам в помощь). Важно! Это должна быть не дата создания сообщения, а дата его попадания в чат! \n",
    "    + `user` - информация о пользователе, который оставил сообщение (какой тип данных использовать здесь, разберётесь сами)\n",
    "+ Должен иметь метод `show`, который печатает или возвращает информацию о сообщении с необходимой информацией (дата, время, юзер, текст)\n",
    "+ Должен иметь метод `send`, который будет отправлять сообщение в чат\n",
    "\n",
    "**User**:\n",
    "+ Класс с информацией о юзере, наполнение для этого класса придумайте сами\n",
    "\n",
    "Напишите несколько примеров использования кода, которое показывает взаимодействие между объектами.\n",
    "\n",
    "В тексте задания намерено не указано, какие аргументы должны принимать методы, пускай вам в этом поможет здравый смысл)\n",
    "\n",
    "В этом задании не стоит флексить всякими продвинутыми штуками, для этого есть последующие\n",
    "\n",
    "В этом задании можно использовать только модуль `datetime`"
   ]
  },
  {
   "cell_type": "code",
   "execution_count": null,
   "id": "TsL7JRV13ZaD",
   "metadata": {
    "id": "TsL7JRV13ZaD"
   },
   "outputs": [],
   "source": [
    "from datetime import datetime, timedelta, date"
   ]
  },
  {
   "cell_type": "code",
   "execution_count": null,
   "id": "d14ce6ca-7294-492c-8a01-3f7547680474",
   "metadata": {
    "id": "d14ce6ca-7294-492c-8a01-3f7547680474"
   },
   "outputs": [],
   "source": [
    "class Chat:\n",
    "    def __init__(self, chat_history=[]):\n",
    "        self.chat_history = chat_history\n",
    "\n",
    "    def show_last_message(self):\n",
    "        print(self.chat_history[0])\n",
    "\n",
    "    def get_history_from_time_period(self, datetime_start, datetime_end):\n",
    "        \n",
    "        datetime_1 = datetime.strptime(datetime_start, \"%H:%M %d-%m-%Y\")\n",
    "        datetime_2 = datetime.strptime(datetime_end, \"%H:%M %d-%m-%Y\")\n",
    "\n",
    "        chat_history_between_dates = [m for m in self.chat_history \\\n",
    "                                      if datetime.strptime(m.datetime, \"%H:%M %d-%m-%Y\") >= datetime_1 and \\\n",
    "                                      datetime.strptime(m.datetime, \"%H:%M %d-%m-%Y\") <= datetime_2]\n",
    "\n",
    "        return Chat(chat_history_between_dates)\n",
    "\n",
    "    def show_chat(self):\n",
    "        for message in self.chat_history[::-1]:\n",
    "            message.show()\n",
    "            print()\n",
    "\n",
    "    def recieve(self, message):\n",
    "        self.chat_history.insert(0, message)\n",
    "\n",
    "\n",
    "class Message:\n",
    "    def __init__(self, text, user):\n",
    "        self.text = text\n",
    "        self.datetime = None\n",
    "        self.user = user\n",
    "\n",
    "    def show(self):\n",
    "        print(self.user.show_name() + ' ' + str(self.datetime) + '\\n' + str(self.text))\n",
    "    \n",
    "    def send(self, chat):\n",
    "        self.datetime = datetime.now().strftime(\"%H:%M %d-%m-%Y\")\n",
    "        chat.recieve(self)\n",
    "\n",
    "\n",
    "class User:\n",
    "    \n",
    "    def __init__(self, username, ispremium=False):\n",
    "        self.username = username\n",
    "        self.ispremium = ispremium\n",
    "    \n",
    "    def show_name(self):\n",
    "        if self.ispremium:\n",
    "            return self.username + ' [PREMIUM]'\n",
    "        return self.username"
   ]
  },
  {
   "cell_type": "code",
   "execution_count": null,
   "id": "cqzJXr094JSd",
   "metadata": {
    "id": "cqzJXr094JSd"
   },
   "outputs": [],
   "source": [
    "vlad = User('Vlad', True)\n",
    "chatGPT = User('ChatGPT')\n",
    "\n",
    "chat = Chat()"
   ]
  },
  {
   "cell_type": "code",
   "execution_count": null,
   "id": "GyzGVsSY4jGu",
   "metadata": {
    "id": "GyzGVsSY4jGu"
   },
   "outputs": [],
   "source": [
    "mess_from_vlad = Message('Hello', vlad).send(chat)\n",
    "mess_from_chat = Message('How can i help you?', chatGPT).send(chat)"
   ]
  },
  {
   "cell_type": "code",
   "execution_count": null,
   "id": "vQNWwgXtfTa0",
   "metadata": {
    "id": "vQNWwgXtfTa0"
   },
   "outputs": [],
   "source": [
    "mess_from_vlad = Message('Hello again', vlad).send(chat)\n",
    "mess_from_chat = Message('How can i help you again?', chatGPT).send(chat)"
   ]
  },
  {
   "cell_type": "code",
   "execution_count": null,
   "id": "UdSVOGvS4nS6",
   "metadata": {
    "colab": {
     "base_uri": "https://localhost:8080/"
    },
    "id": "UdSVOGvS4nS6",
    "outputId": "0afdf5fb-436e-4724-daad-7969f0b24431"
   },
   "outputs": [
    {
     "name": "stdout",
     "output_type": "stream",
     "text": [
      "Vlad [PREMIUM] 10:20 15-02-2023\n",
      "Hello\n",
      "\n",
      "ChatGPT 10:20 15-02-2023\n",
      "How can i help you?\n",
      "\n",
      "Vlad [PREMIUM] 10:21 15-02-2023\n",
      "Hello again\n",
      "\n",
      "ChatGPT 10:21 15-02-2023\n",
      "How can i help you again?\n",
      "\n"
     ]
    }
   ],
   "source": [
    "chat.show_chat()"
   ]
  },
  {
   "cell_type": "code",
   "execution_count": null,
   "id": "9ifrh9sdfhye",
   "metadata": {
    "colab": {
     "base_uri": "https://localhost:8080/"
    },
    "id": "9ifrh9sdfhye",
    "outputId": "bca62ab2-4091-4c42-aca7-2c25c98bdf35"
   },
   "outputs": [
    {
     "name": "stdout",
     "output_type": "stream",
     "text": [
      "Vlad [PREMIUM] 10:20 15-02-2023\n",
      "Hello\n",
      "\n",
      "ChatGPT 10:20 15-02-2023\n",
      "How can i help you?\n",
      "\n"
     ]
    }
   ],
   "source": [
    "chat.get_history_from_time_period('10:00 15-02-2023', '10:20 15-02-2023').show_chat()"
   ]
  },
  {
   "cell_type": "markdown",
   "id": "a59aa1b3-4c93-480e-a09f-e57df34eb60a",
   "metadata": {
    "id": "a59aa1b3-4c93-480e-a09f-e57df34eb60a"
   },
   "source": [
    "# Задание 2 (3 балла)"
   ]
  },
  {
   "cell_type": "markdown",
   "id": "ab07eb69-877f-4c38-8c7d-88beae20071b",
   "metadata": {
    "id": "ab07eb69-877f-4c38-8c7d-88beae20071b"
   },
   "source": [
    "В питоне как-то слишком типично и неинтересно происходят вызовы функций. Напишите класс `Args`, который будет хранить в себе аргументы, а функции можно будет вызывать при помощи следующего синтаксиса.\n",
    "\n",
    "Использовать любые модули **нельзя**, да и вряд-ли это как-то поможет)"
   ]
  },
  {
   "cell_type": "code",
   "execution_count": null,
   "id": "d73d6b31-c15a-4ae6-ad9b-b3fdab88efed",
   "metadata": {
    "id": "d73d6b31-c15a-4ae6-ad9b-b3fdab88efed"
   },
   "outputs": [],
   "source": [
    "class Args:\n",
    "    \n",
    "    def __init__(self, *args, **kwargs):\n",
    "        self.args = args\n",
    "        self.kwargs = kwargs\n",
    "    \n",
    "    def __rlshift__(self, other):\n",
    "        return other(*self.args, **self.kwargs)\n"
   ]
  },
  {
   "cell_type": "code",
   "execution_count": null,
   "id": "55afedbb-4725-4078-bd98-bf803be0bf93",
   "metadata": {
    "colab": {
     "base_uri": "https://localhost:8080/"
    },
    "id": "55afedbb-4725-4078-bd98-bf803be0bf93",
    "outputId": "12db63fa-e7fb-400f-d050-3b072715d0d1"
   },
   "outputs": [
    {
     "data": {
      "text/plain": [
       "3"
      ]
     },
     "execution_count": 34,
     "metadata": {},
     "output_type": "execute_result"
    }
   ],
   "source": [
    "sum << Args([1, 2])"
   ]
  },
  {
   "cell_type": "code",
   "execution_count": null,
   "id": "c37f0728-9bdc-469e-a5b8-3ab5aa43a731",
   "metadata": {
    "colab": {
     "base_uri": "https://localhost:8080/"
    },
    "id": "c37f0728-9bdc-469e-a5b8-3ab5aa43a731",
    "outputId": "97fe0b24-2f0a-4c92-aab3-c8e8c1093de1"
   },
   "outputs": [
    {
     "data": {
      "text/plain": [
       "53"
      ]
     },
     "execution_count": 35,
     "metadata": {},
     "output_type": "execute_result"
    }
   ],
   "source": [
    "(lambda a, b, c: a**2 + b + c) << Args(1, 2, c=50)"
   ]
  },
  {
   "cell_type": "markdown",
   "id": "d6915eaf-92fe-460b-bf9b-06ccf55b093f",
   "metadata": {
    "id": "d6915eaf-92fe-460b-bf9b-06ccf55b093f"
   },
   "source": [
    "# Задание 3 (5 баллов)"
   ]
  },
  {
   "cell_type": "markdown",
   "id": "5a588ef8-8af6-42b6-972b-3c716a604c34",
   "metadata": {
    "id": "5a588ef8-8af6-42b6-972b-3c716a604c34"
   },
   "source": [
    "Сделайте класс наследник `float`. Он должен вести себя как `float`, но также должен обладать некоторыми особенностями:\n",
    "+ При получении атрибутов формата `<действие>_<число>` мы получаем результат такого действия над нашим числом\n",
    "+ Создавать данные атрибуты в явном виде, очевидно, не стоит\n",
    "\n",
    "Подсказка: если в процессе гуглёжки, вы выйдете на такую тему как **\"Дескрипторы\", то это НЕ то, что вам сейчас нужно**\n",
    "\n",
    "Примеры использования ниже"
   ]
  },
  {
   "cell_type": "code",
   "execution_count": null,
   "id": "61cb63a2-90ac-4b79-97a5-bb0496262e32",
   "metadata": {
    "id": "61cb63a2-90ac-4b79-97a5-bb0496262e32"
   },
   "outputs": [],
   "source": [
    "class StrangeFloat(float):\n",
    "\n",
    "    def __getattribute__(self, name):\n",
    "        if '__' not in name:\n",
    "            action, number = name.split('_')\n",
    "            if action == 'add':\n",
    "                return type(self)(self + float(number))\n",
    "            elif action == 'subtract':\n",
    "                return type(self)(self - float(number))\n",
    "            elif action == 'multiply':\n",
    "                return type(self)(self * float(number))\n",
    "            elif action == 'divide':\n",
    "                return type(self)(self / float(number))\n",
    "            else:\n",
    "                raise AttributeError\n"
   ]
  },
  {
   "cell_type": "code",
   "execution_count": null,
   "id": "oVoqUavI8aa3",
   "metadata": {
    "id": "oVoqUavI8aa3"
   },
   "outputs": [],
   "source": [
    "num = StrangeFloat(3.5)"
   ]
  },
  {
   "cell_type": "code",
   "execution_count": null,
   "id": "b2756368-a489-486d-a0f1-244697f8503c",
   "metadata": {
    "colab": {
     "base_uri": "https://localhost:8080/"
    },
    "id": "b2756368-a489-486d-a0f1-244697f8503c",
    "outputId": "975d3e92-ffd2-42af-f3ac-a7610e43c6f2"
   },
   "outputs": [
    {
     "data": {
      "text/plain": [
       "4.5"
      ]
     },
     "execution_count": 53,
     "metadata": {},
     "output_type": "execute_result"
    }
   ],
   "source": [
    "num.add_1"
   ]
  },
  {
   "cell_type": "code",
   "execution_count": null,
   "id": "c6799592-3cb6-4c7d-af62-9c0a48a76c1d",
   "metadata": {
    "colab": {
     "base_uri": "https://localhost:8080/"
    },
    "id": "c6799592-3cb6-4c7d-af62-9c0a48a76c1d",
    "outputId": "f462406b-9ac2-429b-83dd-70bdb75b2401"
   },
   "outputs": [
    {
     "data": {
      "text/plain": [
       "-16.5"
      ]
     },
     "execution_count": 54,
     "metadata": {},
     "output_type": "execute_result"
    }
   ],
   "source": [
    "num.subtract_20"
   ]
  },
  {
   "cell_type": "code",
   "execution_count": null,
   "id": "130027b5-017a-4c70-b072-1fdc6acf670f",
   "metadata": {
    "colab": {
     "base_uri": "https://localhost:8080/"
    },
    "id": "130027b5-017a-4c70-b072-1fdc6acf670f",
    "outputId": "e36a89c3-f43a-4932-fb0a-70c5b91ea909"
   },
   "outputs": [
    {
     "data": {
      "text/plain": [
       "17.5"
      ]
     },
     "execution_count": 55,
     "metadata": {},
     "output_type": "execute_result"
    }
   ],
   "source": [
    "num.multiply_5"
   ]
  },
  {
   "cell_type": "code",
   "execution_count": null,
   "id": "2b901e5c-5a51-4788-b15b-9b20a074e1a4",
   "metadata": {
    "colab": {
     "base_uri": "https://localhost:8080/"
    },
    "id": "2b901e5c-5a51-4788-b15b-9b20a074e1a4",
    "outputId": "2510aec2-6c45-4c0a-9ca4-68c2e27964c5"
   },
   "outputs": [
    {
     "data": {
      "text/plain": [
       "0.14"
      ]
     },
     "execution_count": 56,
     "metadata": {},
     "output_type": "execute_result"
    }
   ],
   "source": [
    "num.divide_25"
   ]
  },
  {
   "cell_type": "code",
   "execution_count": null,
   "id": "ea52c492-b0ce-4d73-8aba-a0ea51ed0b60",
   "metadata": {
    "colab": {
     "base_uri": "https://localhost:8080/"
    },
    "id": "ea52c492-b0ce-4d73-8aba-a0ea51ed0b60",
    "outputId": "d41571e6-4a4a-43c4-b779-cd6aa29c1c03"
   },
   "outputs": [
    {
     "data": {
      "text/plain": [
       "-4.125"
      ]
     },
     "execution_count": 57,
     "metadata": {},
     "output_type": "execute_result"
    }
   ],
   "source": [
    "num.add_1.add_2.multiply_6.divide_8.subtract_9"
   ]
  },
  {
   "cell_type": "code",
   "execution_count": null,
   "id": "e26ef411-a5df-46c7-bb9d-e77a1fad3cec",
   "metadata": {
    "colab": {
     "base_uri": "https://localhost:8080/"
    },
    "id": "e26ef411-a5df-46c7-bb9d-e77a1fad3cec",
    "outputId": "1d061f21-d520-4190-af7b-bc0e0b35a225"
   },
   "outputs": [
    {
     "data": {
      "text/plain": [
       "1.0"
      ]
     },
     "execution_count": 58,
     "metadata": {},
     "output_type": "execute_result"
    }
   ],
   "source": [
    "getattr(num, \"add_-2.5\")   # Используем getattr, так как не можем написать number.add_-2.5 - это SyntaxError"
   ]
  },
  {
   "cell_type": "markdown",
   "id": "3635bceb-723c-4b2f-82e3-269bd914c46c",
   "metadata": {
    "id": "3635bceb-723c-4b2f-82e3-269bd914c46c"
   },
   "source": [
    "# Задание 4 (3 балла)"
   ]
  },
  {
   "cell_type": "markdown",
   "id": "31d35f82-1e20-4bf5-b896-7b8163f8386f",
   "metadata": {
    "id": "31d35f82-1e20-4bf5-b896-7b8163f8386f"
   },
   "source": [
    "В данном задании мы немного отдохнём и повеселимся. От вас требуется заменить в данном коде максимально возможное количество синтаксических конструкций на вызовы dunder методов, dunder атрибутов и dunder переменных.\n",
    "\n",
    "Маленькая заметка: полностью всё заменить невозможно. Например, `function()` можно записать как `function.__call__()`, но при этом мы всё ещё не избавляемся от скобочек, так что можно делать так до бесконечности `function.__call__.__call__.__call__.__call__.....__call__()` и при всём при этом мы ещё не избавляемся от `.` для доступа к атрибутам. В общем, замените всё, что получится, не закапываясь в повторы, как в приведённом примере. Чем больше разных методов вы найдёте и используете, тем лучше и тем выше будет балл\n",
    "\n",
    "Код по итогу дожен работать и печатать число **4420.0**, как в примере. Структуру кода менять нельзя, просто изменяем конструкции на синонимичные\n",
    "\n",
    "И ещё маленькая подсказка. Заменить здесь можно всё кроме:\n",
    "+ Конструкции `for ... in ...`:\n",
    "+ Синтаксиса создания лямбда функции\n",
    "+ Оператора присваивания `=`\n",
    "+ Конструкции `if-else`"
   ]
  },
  {
   "cell_type": "code",
   "execution_count": null,
   "id": "a87cff2a-7168-470d-b38f-1cb5a60ac0c4",
   "metadata": {
    "colab": {
     "base_uri": "https://localhost:8080/"
    },
    "id": "a87cff2a-7168-470d-b38f-1cb5a60ac0c4",
    "outputId": "1d181b8b-3378-42af-8179-9fcdf6242a37"
   },
   "outputs": [
    {
     "name": "stdout",
     "output_type": "stream",
     "text": [
      "4420.0\n"
     ]
    }
   ],
   "source": [
    "import numpy as np\n",
    "\n",
    "\n",
    "matrix = []\n",
    "for idx in range(0, 100, 10):\n",
    "    matrix += [list(range(idx, idx + 10))]\n",
    "    \n",
    "selected_columns_indices = list(filter(lambda x: x in range(1, 5, 2), range(len(matrix))))\n",
    "selected_columns = map(lambda x: [x[col] for col in selected_columns_indices], matrix)\n",
    "\n",
    "arr = np.array(list(selected_columns))\n",
    "\n",
    "mask = arr[:, 1] % 3 == 0\n",
    "new_arr = arr[mask]\n",
    "\n",
    "product = new_arr @ new_arr.T\n",
    "\n",
    "if (product[0] < 1000).all() and (product[2] > 1000).any():\n",
    "    print(product.mean())"
   ]
  },
  {
   "cell_type": "code",
   "execution_count": 33,
   "id": "9e29cc00-c8db-4cc4-a93b-2908352d9344",
   "metadata": {
    "colab": {
     "base_uri": "https://localhost:8080/"
    },
    "id": "9e29cc00-c8db-4cc4-a93b-2908352d9344",
    "outputId": "4fb0be90-0a3b-4ba3-eefc-1216651d5259"
   },
   "outputs": [
    {
     "name": "stdout",
     "output_type": "stream",
     "text": [
      "4420.0\n"
     ]
    }
   ],
   "source": [
    "import numpy as np\n",
    "\n",
    "matrix = list.__call__()\n",
    "\n",
    "for idx in range(0, 100, 10).__iter__():\n",
    "    matrix.__iadd__([list.__call__(range(idx, idx.__add__(10)).__iter__())])\n",
    "    \n",
    "selected_columns_indices = list.__call__(filter(lambda x: x in range(1, 5, 2).__iter__(), range(matrix.__len__()).__iter__()))\n",
    "selected_columns = map(lambda x: list.__call__(x.__getitem__(col) for col in selected_columns_indices), matrix)\n",
    "\n",
    "arr = np.array(list.__call__(selected_columns))\n",
    "\n",
    "mask = arr[:, 1].__mod__(3).__eq__(0)\n",
    "\n",
    "new_arr = arr.__getitem__(mask)\n",
    "\n",
    "product = new_arr.__matmul__(new_arr.T)\n",
    "\n",
    "if (product.__getitem__(0).__lt__(1000)).all().__and__((product.__getitem__(2).__gt__(1000)).any()):\n",
    "    print(product.mean().__str__())"
   ]
  },
  {
   "cell_type": "markdown",
   "id": "e90e5938-cabe-4ee1-9a88-73f25b3b67c3",
   "metadata": {
    "id": "e90e5938-cabe-4ee1-9a88-73f25b3b67c3"
   },
   "source": [
    "# Задание 5 (10 баллов)"
   ]
  },
  {
   "cell_type": "markdown",
   "id": "0e58f6a8-7bb8-45f0-b14d-3bcd1f1ba5a9",
   "metadata": {
    "id": "0e58f6a8-7bb8-45f0-b14d-3bcd1f1ba5a9"
   },
   "source": [
    "Напишите абстрактный класс `BiologicalSequence`, который задаёт следующий интерфейс:\n",
    "+ Работа с функцией `len`\n",
    "+ Возможность получать элементы по индексу и делать срезы последовательности (аналогично строкам)\n",
    "+ Вывод на печать в удобном виде и возможность конвертации в строку\n",
    "+ Возможность проверить алфавит последовательности на корректность\n",
    "\n",
    "Напишите класс `NucleicAcidSequence`:\n",
    "+ Данный класс реализует интерфейс `BiologicalSequence`\n",
    "+ Данный класс имеет новый метод `complement`, возвращающий комплементарную последовательность\n",
    "+ Данный класс имеет новый метод `gc_content`, возвращающий GC-состав (без разницы, в процентах или в долях)\n",
    "\n",
    "Напишите классы наследники `NucleicAcidSequence`: `DNASequence` и `RNASequence`\n",
    "+ `DNASequence` должен иметь метод `transcribe`, возвращающий транскрибированную РНК-последовательность\n",
    "+ Данные классы не должны иметь <ins>публичных методов</ins> `complement` и метода для проверки алфавита, так как они уже должны быть реализованы в `NucleicAcidSequence`.\n",
    "\n",
    "Напишите класс `AminoAcidSequence`:\n",
    "+ Данный класс реализует интерфейс `BiologicalSequence`\n",
    "+ Добавьте этому классу один любой метод, подходящий по смыслу к аминокислотной последовательности. Например, метод для нахождения изоэлектрической точки, молекулярного веса и т.д.\n",
    "\n",
    "Комментарий по поводу метода `NucleicAcidSequence.complement`, так как я хочу, чтобы вы сделали его опредедённым образом:\n",
    "\n",
    "При вызове `dna.complement()` или условного `dna.check_alphabet()` должны будут вызываться соответствующие методы из `NucleicAcidSequence`. При этом, данный метод должен обладать свойством полиморфизма, иначе говоря, внутри `complement` не надо делать условия а-ля `if seuqence_type == \"DNA\": return self.complement_dna()`, это крайне не гибко. Данный метод должен опираться на какой-то общий интерфейс между ДНК и РНК. Создание экземпляров `NucleicAcidSequence` не подразумевается, поэтому код `NucleicAcidSequence(\"ATGC\").complement()` не обязан работать, а в идеале должен кидать исключение `NotImplementedError` при вызове от экземпляра `NucleicAcidSequence`\n",
    "\n",
    "Вся сложность задания в том, чтобы правильно организовать код. Если у вас есть повторяющийся код в сестринских классах или родительском и дочернем, значит вы что-то делаете не так.\n",
    "\n",
    "\n",
    "Маленькое замечание: По-хорошему, между классом `BiologicalSequence` и классами `NucleicAcidSequence` и `AminoAcidSequence`, ещё должен быть класс-прослойка, частично реализующий интерфейс `BiologicalSequence`, но его писать не обязательно, так как задание и так довольно большое (правда из-за этого у вас неминуемо возникнет повторяющийся код в классах `NucleicAcidSequence` и `AminoAcidSequence`)"
   ]
  },
  {
   "cell_type": "code",
   "execution_count": 1,
   "id": "f17d5d3f-9982-4271-a987-3af7bc071c42",
   "metadata": {
    "id": "f17d5d3f-9982-4271-a987-3af7bc071c42"
   },
   "outputs": [],
   "source": [
    "from abc import ABC, abstractmethod\n",
    "\n",
    "\n",
    "class BiologicalSequence(ABC):\n",
    "\n",
    "    def __init__(self, seq):\n",
    "        self.seq = seq\n",
    "\n",
    "    def __len__(self):\n",
    "        return len(self.seq)\n",
    "\n",
    "    def __getitem__(self, slc):\n",
    "        return self.seq[slc]\n",
    "\n",
    "    def alpha_check(self):\n",
    "        if not self.seq.isalpha():\n",
    "            raise SyntaxError('Please check input sequence. It should not contain any numbers and spaces')\n",
    "       \n",
    "\n",
    "class NucleicAcidSequence(BiologicalSequence):\n",
    "    \n",
    "    def alpha_check(self):\n",
    "         super().alpha_check()\n",
    "         if not set(self.seq.lower()).issubset({self._nucleotides}):\n",
    "                raise SyntaxError(f'Please check input sequence. It should be one of {self._nucleotides}')\n",
    "         return True\n",
    "\n",
    "    def complement(self):\n",
    "\n",
    "        if type(self) == NucleicAcidSequence:\n",
    "            raise NotImplementedError('This method was not implemeted for this class')\n",
    "\n",
    "        str_for_dict = self._nucleotides.lower() + self._nucleotides.upper()\n",
    "        _str_compl_dict = self._nucleotides[1] + self._nucleotides[0] + \\\n",
    "                        self._nucleotides[3] + self._nucleotides[2] \n",
    "        str_compl_dict = _str_compl_dict.lower() + _str_compl_dict.upper()\n",
    "\n",
    "        dict_compl = str.maketrans(str_for_dict, str_compl_dict)\n",
    "        return self.seq.translate(dict_compl)\n",
    "\n",
    "    \n",
    "    def gc_content(self):\n",
    "        return (self.seq.lower().count('g') + \n",
    "                self.seq.lower().count('c')) / len(self)\n",
    "\n",
    "\n",
    "\n",
    "class DNASequence(NucleicAcidSequence):\n",
    "    \n",
    "    _nucleotides = 'ATGC'\n",
    "        \n",
    "    def transcribe(self):\n",
    "        dict_transcr = str.maketrans('atgcATGC', 'augcAUGC')\n",
    "        return self.seq.translate(dict_transcr)\n",
    "\n",
    "\n",
    "class RNASequence(NucleicAcidSequence):\n",
    "    \n",
    "    _nucleotides = 'AUGC'\n",
    "\n",
    "\n",
    "class AminoAcidSequence(BiologicalSequence):\n",
    "    \n",
    "    __aa_mass = {'A': 71, 'G': 57, 'M': 131, 'S': 87,\n",
    "                'C': 103, 'H': 137, 'N': 114, 'T': 101,\n",
    "                'D': 115, 'I': 113, 'P': 97, 'V': 99,\n",
    "                'E': 129, 'K': 128, 'Q': 128, 'W': 186,\n",
    "                'F': 147, 'L': 113, 'R': 156, 'Y': 163\n",
    "                }\n",
    "\n",
    "    def calcultae_mass(self):\n",
    "\n",
    "        return sum(self.__aa_mass[x] for x in self.seq.upper()) - (len(self) - 1) * 19\n",
    "\n"
   ]
  },
  {
   "cell_type": "code",
   "execution_count": 7,
   "id": "fnZ78uRHVips",
   "metadata": {
    "colab": {
     "base_uri": "https://localhost:8080/",
     "height": 300
    },
    "id": "fnZ78uRHVips",
    "outputId": "5cdd5cab-f8a7-4ec3-c0a8-86643d46f317"
   },
   "outputs": [
    {
     "ename": "SyntaxError",
     "evalue": "ignored",
     "output_type": "error",
     "traceback": [
      "Traceback \u001b[0;36m(most recent call last)\u001b[0m:\n",
      "  File \u001b[1;32m\"/usr/local/lib/python3.8/dist-packages/IPython/core/interactiveshell.py\"\u001b[0m, line \u001b[1;32m3326\u001b[0m, in \u001b[1;35mrun_code\u001b[0m\n    exec(code_obj, self.user_global_ns, self.user_ns)\n",
      "  File \u001b[1;32m\"<ipython-input-7-474d27814335>\"\u001b[0m, line \u001b[1;32m1\u001b[0m, in \u001b[1;35m<module>\u001b[0m\n    DNASequence('aAAaauuuuUgc').alpha_check()\n",
      "\u001b[0;36m  File \u001b[0;32m\"<ipython-input-1-ed43435fa886>\"\u001b[0;36m, line \u001b[0;32m25\u001b[0;36m, in \u001b[0;35malpha_check\u001b[0;36m\u001b[0m\n\u001b[0;31m    raise SyntaxError(f'Please check input sequence. It should be one of {self._nucleotides}')\u001b[0m\n",
      "\u001b[0;36m  File \u001b[0;32m\"<string>\"\u001b[0;36m, line \u001b[0;32munknown\u001b[0m\n\u001b[0;31mSyntaxError\u001b[0m\u001b[0;31m:\u001b[0m Please check input sequence. It should be one of ATGC\n"
     ]
    }
   ],
   "source": [
    "DNASequence('aAAaauuuuUgc').alpha_check()"
   ]
  },
  {
   "cell_type": "code",
   "execution_count": 8,
   "id": "x7bMN3cGxBId",
   "metadata": {
    "id": "x7bMN3cGxBId"
   },
   "outputs": [],
   "source": [
    "seque = DNASequence('aAAaaGgtTgc')"
   ]
  },
  {
   "cell_type": "code",
   "execution_count": 9,
   "id": "jZ-4Wq7zWzvK",
   "metadata": {
    "colab": {
     "base_uri": "https://localhost:8080/",
     "height": 36
    },
    "id": "jZ-4Wq7zWzvK",
    "outputId": "3b698229-f82c-4a93-b6c3-d92b414517b2"
   },
   "outputs": [
    {
     "data": {
      "application/vnd.google.colaboratory.intrinsic+json": {
       "type": "string"
      },
      "text/plain": [
       "'tTTttCcaAcg'"
      ]
     },
     "execution_count": 9,
     "metadata": {},
     "output_type": "execute_result"
    }
   ],
   "source": [
    "seque.complement()"
   ]
  },
  {
   "cell_type": "code",
   "execution_count": 10,
   "id": "AG3bpdQIbZaL",
   "metadata": {
    "colab": {
     "base_uri": "https://localhost:8080/",
     "height": 300
    },
    "id": "AG3bpdQIbZaL",
    "outputId": "fe2ea523-f3fb-4746-c9d7-2713e8397f75"
   },
   "outputs": [
    {
     "ename": "NotImplementedError",
     "evalue": "ignored",
     "output_type": "error",
     "traceback": [
      "\u001b[0;31m---------------------------------------------------------------------------\u001b[0m",
      "\u001b[0;31mNotImplementedError\u001b[0m                       Traceback (most recent call last)",
      "\u001b[0;32m<ipython-input-10-ec844b263169>\u001b[0m in \u001b[0;36m<module>\u001b[0;34m\u001b[0m\n\u001b[0;32m----> 1\u001b[0;31m \u001b[0mNucleicAcidSequence\u001b[0m\u001b[0;34m(\u001b[0m\u001b[0;34m'agagagcgcg'\u001b[0m\u001b[0;34m)\u001b[0m\u001b[0;34m.\u001b[0m\u001b[0mcomplement\u001b[0m\u001b[0;34m(\u001b[0m\u001b[0;34m)\u001b[0m\u001b[0;34m\u001b[0m\u001b[0;34m\u001b[0m\u001b[0m\n\u001b[0m",
      "\u001b[0;32m<ipython-input-1-ed43435fa886>\u001b[0m in \u001b[0;36mcomplement\u001b[0;34m(self)\u001b[0m\n\u001b[1;32m     29\u001b[0m \u001b[0;34m\u001b[0m\u001b[0m\n\u001b[1;32m     30\u001b[0m         \u001b[0;32mif\u001b[0m \u001b[0mtype\u001b[0m\u001b[0;34m(\u001b[0m\u001b[0mself\u001b[0m\u001b[0;34m)\u001b[0m \u001b[0;34m==\u001b[0m \u001b[0mNucleicAcidSequence\u001b[0m\u001b[0;34m:\u001b[0m\u001b[0;34m\u001b[0m\u001b[0;34m\u001b[0m\u001b[0m\n\u001b[0;32m---> 31\u001b[0;31m             \u001b[0;32mraise\u001b[0m \u001b[0mNotImplementedError\u001b[0m\u001b[0;34m(\u001b[0m\u001b[0;34m'This method was not implemeted for this class'\u001b[0m\u001b[0;34m)\u001b[0m\u001b[0;34m\u001b[0m\u001b[0;34m\u001b[0m\u001b[0m\n\u001b[0m\u001b[1;32m     32\u001b[0m \u001b[0;34m\u001b[0m\u001b[0m\n\u001b[1;32m     33\u001b[0m         \u001b[0mstr_for_dict\u001b[0m \u001b[0;34m=\u001b[0m \u001b[0mself\u001b[0m\u001b[0;34m.\u001b[0m\u001b[0m_nucleotides\u001b[0m\u001b[0;34m.\u001b[0m\u001b[0mlower\u001b[0m\u001b[0;34m(\u001b[0m\u001b[0;34m)\u001b[0m \u001b[0;34m+\u001b[0m \u001b[0mself\u001b[0m\u001b[0;34m.\u001b[0m\u001b[0m_nucleotides\u001b[0m\u001b[0;34m.\u001b[0m\u001b[0mupper\u001b[0m\u001b[0;34m(\u001b[0m\u001b[0;34m)\u001b[0m\u001b[0;34m\u001b[0m\u001b[0;34m\u001b[0m\u001b[0m\n",
      "\u001b[0;31mNotImplementedError\u001b[0m: This method was not implemeted for this class"
     ]
    }
   ],
   "source": [
    "NucleicAcidSequence('agagagcgcg').complement()"
   ]
  },
  {
   "cell_type": "markdown",
   "id": "7ojtlKQGI_p8",
   "metadata": {
    "id": "7ojtlKQGI_p8"
   },
   "source": [
    "### Insulin precursor sequnce"
   ]
  },
  {
   "cell_type": "code",
   "execution_count": 11,
   "id": "BtITnTpEdXgo",
   "metadata": {
    "id": "BtITnTpEdXgo"
   },
   "outputs": [],
   "source": [
    "prot = AminoAcidSequence('mskfllqshsanaclltllltlasnldislanfehscngymrphprglcgedlhviisnlcsslggnrrflakymvkrdtenvndklrgillnkkeafsyltkreasgsitceccfnqcrifelaqycrlpdhffsrisrtgrsnsghaqlednfs')"
   ]
  },
  {
   "cell_type": "code",
   "execution_count": 12,
   "id": "Xb0t6yfu6CJs",
   "metadata": {
    "colab": {
     "base_uri": "https://localhost:8080/"
    },
    "id": "Xb0t6yfu6CJs",
    "outputId": "db018b23-9ad9-493c-d3c7-f53bfd2e5995"
   },
   "outputs": [
    {
     "data": {
      "text/plain": [
       "14644"
      ]
     },
     "execution_count": 12,
     "metadata": {},
     "output_type": "execute_result"
    }
   ],
   "source": [
    "prot.calcultae_mass()"
   ]
  },
  {
   "cell_type": "markdown",
   "id": "wk-fZxnxxKXW",
   "metadata": {
    "id": "wk-fZxnxxKXW"
   },
   "source": [
    "True value is ~14300"
   ]
  }
 ],
 "metadata": {
  "colab": {
   "provenance": []
  },
  "kernelspec": {
   "display_name": "Python 3 (ipykernel)",
   "language": "python",
   "name": "python3"
  },
  "language_info": {
   "codemirror_mode": {
    "name": "ipython",
    "version": 3
   },
   "file_extension": ".py",
   "mimetype": "text/x-python",
   "name": "python",
   "nbconvert_exporter": "python",
   "pygments_lexer": "ipython3",
   "version": "3.10.6"
  }
 },
 "nbformat": 4,
 "nbformat_minor": 5
}
