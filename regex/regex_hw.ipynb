{
 "cells": [
  {
   "cell_type": "code",
   "execution_count": 27,
   "id": "9878b018",
   "metadata": {},
   "outputs": [],
   "source": [
    "import re\n",
    "import pandas as pd\n",
    "import numpy as np\n",
    "import matplotlib.pyplot as plt\n",
    "import seaborn as sns"
   ]
  },
  {
   "cell_type": "markdown",
   "id": "c3959617",
   "metadata": {},
   "source": [
    "## Распарсите файл references при помощи регулярных выражений и запишите оттуда все ftp ссылки в файл ftps (5 баллов)"
   ]
  },
  {
   "cell_type": "code",
   "execution_count": 28,
   "id": "829cf5f9",
   "metadata": {},
   "outputs": [],
   "source": [
    "with open('references.txt') as refs:\n",
    "    ftp = open('ftp.txt', 'w')\n",
    "    for line in refs:\n",
    "        for link in re.findall(r'ftp\\..+?[;|\\t|\\n]\\b', line.strip()):\n",
    "            print(link.strip(';\\t'), file=ftp)"
   ]
  },
  {
   "cell_type": "markdown",
   "id": "dc2b5ac8",
   "metadata": {},
   "source": [
    "## Извлеките из рассказа  2430 A.D. все числа "
   ]
  },
  {
   "cell_type": "code",
   "execution_count": 29,
   "id": "ddc13d46",
   "metadata": {},
   "outputs": [],
   "source": [
    "with open('2430AD.txt') as story:\n",
    "    nums = open('nums.txt', 'w')\n",
    "    for line in story:\n",
    "        match_num = re.findall(r'(?:\\d+)',line)\n",
    "        if match_num:\n",
    "            for num in match_num:\n",
    "                print(num, file=nums)"
   ]
  },
  {
   "cell_type": "markdown",
   "id": "5bf2a5a5",
   "metadata": {},
   "source": [
    "## Из того же рассказа извлеките все слова, в которых есть буква a, регистр при этом не важен  (5 баллов)"
   ]
  },
  {
   "cell_type": "code",
   "execution_count": 30,
   "id": "077e8bd1",
   "metadata": {},
   "outputs": [],
   "source": [
    "with open('2430AD.txt') as story:\n",
    "    a_words = open('a_words.txt', 'w')\n",
    "    for line in story:\n",
    "        match = re.findall(r'\\b[\\w\\']*[aA][\\w\\']*?\\b',line)\n",
    "        if match:\n",
    "            for word in match:\n",
    "                print(word, file=a_words)"
   ]
  },
  {
   "cell_type": "markdown",
   "id": "5e6115f9",
   "metadata": {},
   "source": [
    "## Извлеките из рассказа все восклицательные предложения  (5 баллов)"
   ]
  },
  {
   "cell_type": "code",
   "execution_count": 31,
   "id": "1c004e21",
   "metadata": {},
   "outputs": [],
   "source": [
    "with open('2430AD.txt') as story:\n",
    "    exclamatory_sentences = open('exclamatory_sentence.txt', 'w')\n",
    "    for line in story:\n",
    "        match = re.findall(r'([A-Z](?:[^[\\.])*?!)',line)\n",
    "        if match:\n",
    "            for word in match:\n",
    "                print(word, file = exclamatory_sentences)"
   ]
  },
  {
   "cell_type": "markdown",
   "id": "dc0a0a5a",
   "metadata": {},
   "source": [
    "## Постройте гистограмму распределения длин уникальных слов (без учёта регистра, длина от 1) в тексте. "
   ]
  },
  {
   "cell_type": "markdown",
   "id": "a77e273d",
   "metadata": {},
   "source": [
    "### Max length of word and list of counts"
   ]
  },
  {
   "cell_type": "code",
   "execution_count": 32,
   "id": "a6a7ebbe",
   "metadata": {},
   "outputs": [
    {
     "name": "stdout",
     "output_type": "stream",
     "text": [
      "15\n",
      "[6, 24, 73, 160, 140, 137, 128, 99, 63, 35, 24, 8, 2, 3, 2]\n"
     ]
    }
   ],
   "source": [
    "with open('2430AD.txt') as story:\n",
    "    words = story.read()\n",
    "    max_letters = 0\n",
    "    while True:\n",
    "        max_letters += 1\n",
    "        if re.search(fr'[^\\w\\'](([A-z\\'](?!\\')){{{max_letters}}})\\b', words):\n",
    "            continue\n",
    "        else:\n",
    "            max_letters -= 1\n",
    "            break\n",
    "    print(max_letters)\n",
    "    \n",
    "    lst_n_words = []\n",
    "    for nletters in range(1, max_letters+1):\n",
    "        n_words = len(set(re.findall(fr'[^\\w\\'](([A-z\\'](?!\\')){{{nletters}}})\\b', words.lower())))\n",
    "        lst_n_words.append(n_words)\n",
    "\n",
    "print(lst_n_words)"
   ]
  },
  {
   "cell_type": "code",
   "execution_count": 33,
   "id": "938d0002",
   "metadata": {},
   "outputs": [
    {
     "data": {
      "text/html": [
       "<div>\n",
       "<style scoped>\n",
       "    .dataframe tbody tr th:only-of-type {\n",
       "        vertical-align: middle;\n",
       "    }\n",
       "\n",
       "    .dataframe tbody tr th {\n",
       "        vertical-align: top;\n",
       "    }\n",
       "\n",
       "    .dataframe thead th {\n",
       "        text-align: right;\n",
       "    }\n",
       "</style>\n",
       "<table border=\"1\" class=\"dataframe\">\n",
       "  <thead>\n",
       "    <tr style=\"text-align: right;\">\n",
       "      <th></th>\n",
       "      <th>n_letters</th>\n",
       "      <th>count</th>\n",
       "    </tr>\n",
       "  </thead>\n",
       "  <tbody>\n",
       "    <tr>\n",
       "      <th>0</th>\n",
       "      <td>1</td>\n",
       "      <td>6</td>\n",
       "    </tr>\n",
       "    <tr>\n",
       "      <th>1</th>\n",
       "      <td>2</td>\n",
       "      <td>24</td>\n",
       "    </tr>\n",
       "    <tr>\n",
       "      <th>2</th>\n",
       "      <td>3</td>\n",
       "      <td>73</td>\n",
       "    </tr>\n",
       "    <tr>\n",
       "      <th>3</th>\n",
       "      <td>4</td>\n",
       "      <td>160</td>\n",
       "    </tr>\n",
       "    <tr>\n",
       "      <th>4</th>\n",
       "      <td>5</td>\n",
       "      <td>140</td>\n",
       "    </tr>\n",
       "    <tr>\n",
       "      <th>5</th>\n",
       "      <td>6</td>\n",
       "      <td>137</td>\n",
       "    </tr>\n",
       "    <tr>\n",
       "      <th>6</th>\n",
       "      <td>7</td>\n",
       "      <td>128</td>\n",
       "    </tr>\n",
       "    <tr>\n",
       "      <th>7</th>\n",
       "      <td>8</td>\n",
       "      <td>99</td>\n",
       "    </tr>\n",
       "    <tr>\n",
       "      <th>8</th>\n",
       "      <td>9</td>\n",
       "      <td>63</td>\n",
       "    </tr>\n",
       "    <tr>\n",
       "      <th>9</th>\n",
       "      <td>10</td>\n",
       "      <td>35</td>\n",
       "    </tr>\n",
       "    <tr>\n",
       "      <th>10</th>\n",
       "      <td>11</td>\n",
       "      <td>24</td>\n",
       "    </tr>\n",
       "    <tr>\n",
       "      <th>11</th>\n",
       "      <td>12</td>\n",
       "      <td>8</td>\n",
       "    </tr>\n",
       "    <tr>\n",
       "      <th>12</th>\n",
       "      <td>13</td>\n",
       "      <td>2</td>\n",
       "    </tr>\n",
       "    <tr>\n",
       "      <th>13</th>\n",
       "      <td>14</td>\n",
       "      <td>3</td>\n",
       "    </tr>\n",
       "    <tr>\n",
       "      <th>14</th>\n",
       "      <td>15</td>\n",
       "      <td>2</td>\n",
       "    </tr>\n",
       "  </tbody>\n",
       "</table>\n",
       "</div>"
      ],
      "text/plain": [
       "    n_letters  count\n",
       "0           1      6\n",
       "1           2     24\n",
       "2           3     73\n",
       "3           4    160\n",
       "4           5    140\n",
       "5           6    137\n",
       "6           7    128\n",
       "7           8     99\n",
       "8           9     63\n",
       "9          10     35\n",
       "10         11     24\n",
       "11         12      8\n",
       "12         13      2\n",
       "13         14      3\n",
       "14         15      2"
      ]
     },
     "execution_count": 33,
     "metadata": {},
     "output_type": "execute_result"
    }
   ],
   "source": [
    "n_words_df = pd.DataFrame({\"n_letters\":range(1,16), \"count\":lst_n_words})\n",
    "n_words_df"
   ]
  },
  {
   "cell_type": "code",
   "execution_count": 34,
   "id": "901ec1b2",
   "metadata": {},
   "outputs": [
    {
     "data": {
      "image/png": "[encoded data removed]",
      "text/plain": [
       "<Figure size 640x480 with 1 Axes>"
      ]
     },
     "metadata": {},
     "output_type": "display_data"
    }
   ],
   "source": [
    "sns.barplot(data=n_words_df, x='n_letters', y='count', color='lightblue');\n",
    "plt.xlabel(\"Number of letters in word\");\n",
    "plt.ylabel(\"Count\");"
   ]
  },
  {
   "cell_type": "markdown",
   "id": "6b61181d",
   "metadata": {},
   "source": [
    "## Сделайте функцию-переводчик с русского на \"кирпичный язык\""
   ]
  },
  {
   "cell_type": "code",
   "execution_count": 35,
   "id": "42564857",
   "metadata": {},
   "outputs": [],
   "source": [
    "def brick_lang(string):\n",
    "    brick = re.sub(r'([аеёиоуыэюя])', r'\\1к\\1', string)\n",
    "    return brick"
   ]
  },
  {
   "cell_type": "code",
   "execution_count": 36,
   "id": "8b7e4908",
   "metadata": {},
   "outputs": [
    {
     "data": {
      "text/plain": [
       "'всёкё ракавноко такатакарскикий якязыкык лукучшеке всекех'"
      ]
     },
     "execution_count": 36,
     "metadata": {},
     "output_type": "execute_result"
    }
   ],
   "source": [
    "brick_lang('всё равно татарский язык лучше всех')"
   ]
  },
  {
   "cell_type": "markdown",
   "id": "879e1420",
   "metadata": {},
   "source": [
    "## Сделайте функцию для извлечения из текста предложений с заданным количеством слов (предлоги и союзы считаем за слова). "
   ]
  },
  {
   "cell_type": "code",
   "execution_count": 37,
   "id": "93a65e50",
   "metadata": {},
   "outputs": [],
   "source": [
    "def counter_words_in_sentence(n, text):\n",
    "    sentences = []\n",
    "    match = re.findall(fr'((([A-ZА-Я]([^ \\.\\?!]* ){{{n-1}}})([^ \\.\\?!]*))([\\.\\?!]))', text)\n",
    "    if match: \n",
    "        for sentence in match:\n",
    "            sentences.append(tuple(sentence[1].split()))\n",
    "    return sentences\n",
    "    \n",
    "\n",
    "def n_word_sentence_finder(text, n, isfile=False):\n",
    "    if isfile:\n",
    "        with open(text) as file:\n",
    "            sentences = file.read()\n",
    "            return counter_words_in_sentence(n, sentences)\n",
    "    else:\n",
    "        return counter_words_in_sentence(n, text)"
   ]
  },
  {
   "cell_type": "code",
   "execution_count": 39,
   "id": "74bbf284",
   "metadata": {},
   "outputs": [],
   "source": [
    "s = 'Здесь три слова. Тут тоже три!'"
   ]
  },
  {
   "cell_type": "code",
   "execution_count": 25,
   "id": "313be72e",
   "metadata": {},
   "outputs": [
    {
     "data": {
      "text/plain": [
       "[('Здесь', 'три', 'слова'), ('Тут', 'тоже', 'три')]"
      ]
     },
     "execution_count": 25,
     "metadata": {},
     "output_type": "execute_result"
    }
   ],
   "source": [
    "n_word_sentence_finder(s, n=3, isfile=False)"
   ]
  }
 ],
 "metadata": {
  "kernelspec": {
   "display_name": "Python 3 (ipykernel)",
   "language": "python",
   "name": "python3"
  },
  "language_info": {
   "codemirror_mode": {
    "name": "ipython",
    "version": 3
   },
   "file_extension": ".py",
   "mimetype": "text/x-python",
   "name": "python",
   "nbconvert_exporter": "python",
   "pygments_lexer": "ipython3",
   "version": "3.10.8"
  }
 },
 "nbformat": 4,
 "nbformat_minor": 5
}
