{
 "cells": [
  {
   "cell_type": "markdown",
   "id": "72f5013c-f4b9-4a1f-aed9-7e47623e7c8a",
   "metadata": {
    "id": "72f5013c-f4b9-4a1f-aed9-7e47623e7c8a"
   },
   "source": [
    "# Задание 1 (2 балла)"
   ]
  },
  {
   "cell_type": "markdown",
   "id": "0e818fc0-4716-45c6-8942-7b60da358200",
   "metadata": {
    "id": "0e818fc0-4716-45c6-8942-7b60da358200"
   },
   "source": [
    "Напишите класс `MyDict`, который будет полностью повторять поведение обычного словаря, за исключением того, что при итерации мы должны получать и ключи, и значения.\n",
    "\n",
    "**Модули использовать нельзя**"
   ]
  },
  {
   "cell_type": "code",
   "execution_count": 1,
   "id": "3dc27675-99fc-4040-a8f7-aa20be51c816",
   "metadata": {
    "id": "3dc27675-99fc-4040-a8f7-aa20be51c816"
   },
   "outputs": [],
   "source": [
    "class MyDict(dict):\n",
    "\n",
    "    def __iter__(self):\n",
    "        for key, value in self.items():\n",
    "            yield key, value"
   ]
  },
  {
   "cell_type": "code",
   "execution_count": 2,
   "id": "a96e453e-2553-40b1-889f-cce04c6db771",
   "metadata": {
    "colab": {
     "base_uri": "https://localhost:8080/"
    },
    "id": "a96e453e-2553-40b1-889f-cce04c6db771",
    "outputId": "c5d17c06-3415-4f6f-e6b9-540112cf4990"
   },
   "outputs": [
    {
     "name": "stdout",
     "output_type": "stream",
     "text": [
      "a 1\n",
      "b 2\n",
      "c 3\n",
      "d 25\n"
     ]
    }
   ],
   "source": [
    "dct = MyDict({\"a\": 1, \"b\": 2, \"c\": 3, \"d\": 25})\n",
    "for key, value in dct:\n",
    "    print(key, value)   "
   ]
  },
  {
   "cell_type": "code",
   "execution_count": 3,
   "id": "d3b93507-d88a-4773-8d6f-31990e1effbc",
   "metadata": {
    "colab": {
     "base_uri": "https://localhost:8080/"
    },
    "id": "d3b93507-d88a-4773-8d6f-31990e1effbc",
    "outputId": "98c9c5ad-e7df-4ff5-8c0d-3fc97a3fba48"
   },
   "outputs": [
    {
     "name": "stdout",
     "output_type": "stream",
     "text": [
      "a 1\n",
      "b 2\n",
      "c 3\n",
      "d 25\n"
     ]
    }
   ],
   "source": [
    "for key, value in dct.items():\n",
    "    print(key, value)"
   ]
  },
  {
   "cell_type": "code",
   "execution_count": 4,
   "id": "9be2de18-f963-4de0-afba-c183a9a56087",
   "metadata": {
    "colab": {
     "base_uri": "https://localhost:8080/"
    },
    "id": "9be2de18-f963-4de0-afba-c183a9a56087",
    "outputId": "8843e98f-c7f3-4a7c-92a5-1d3384b0cd65"
   },
   "outputs": [
    {
     "name": "stdout",
     "output_type": "stream",
     "text": [
      "a\n",
      "b\n",
      "c\n",
      "d\n"
     ]
    }
   ],
   "source": [
    "for key in dct.keys():\n",
    "    print(key)"
   ]
  },
  {
   "cell_type": "code",
   "execution_count": 5,
   "id": "b7bfbf08-7253-4aab-a9a0-a8e8500c5a29",
   "metadata": {
    "colab": {
     "base_uri": "https://localhost:8080/"
    },
    "id": "b7bfbf08-7253-4aab-a9a0-a8e8500c5a29",
    "outputId": "9d61776c-fa18-4a3b-a4c8-eb040bd17555"
   },
   "outputs": [
    {
     "data": {
      "text/plain": [
       "28"
      ]
     },
     "execution_count": 5,
     "metadata": {},
     "output_type": "execute_result"
    }
   ],
   "source": [
    "dct[\"c\"] + dct[\"d\"]"
   ]
  },
  {
   "cell_type": "markdown",
   "id": "4bde5544-afd0-408e-a03b-dad5096ee685",
   "metadata": {
    "id": "4bde5544-afd0-408e-a03b-dad5096ee685"
   },
   "source": [
    "# Задание 2 (2 балла)"
   ]
  },
  {
   "cell_type": "markdown",
   "id": "36e85085-9990-4a2a-a005-f5ef3afd438d",
   "metadata": {
    "id": "36e85085-9990-4a2a-a005-f5ef3afd438d"
   },
   "source": [
    "Напишите функцию `iter_append`, которая \"добавляет\" новый элемент в конец итератора, возвращая итератор, который включает изначальные элементы и новый элемент. Итерироваться по итератору внутри функции нельзя, то есть вот такая штука не принимается\n",
    "```python\n",
    "def iter_append(iterator, item):\n",
    "    lst = list(iterator) + [item]\n",
    "    return iter(lst)\n",
    "```\n",
    "\n",
    "**Модули использовать нельзя**"
   ]
  },
  {
   "cell_type": "code",
   "execution_count": 6,
   "id": "hSvghJLM7RMO",
   "metadata": {
    "id": "hSvghJLM7RMO"
   },
   "outputs": [],
   "source": [
    "def iter_append(iterator, item):\n",
    "\n",
    "    yield from iterator\n",
    "    yield from iter([item])"
   ]
  },
  {
   "cell_type": "code",
   "execution_count": 7,
   "id": "kHhgf7J87TFO",
   "metadata": {
    "id": "kHhgf7J87TFO"
   },
   "outputs": [],
   "source": [
    "my_iterator = iter([1, 2, 3])"
   ]
  },
  {
   "cell_type": "code",
   "execution_count": 8,
   "id": "deqm3TlaKPXE",
   "metadata": {
    "id": "deqm3TlaKPXE"
   },
   "outputs": [],
   "source": [
    "new_iterator = iter_append(my_iterator, 4)"
   ]
  },
  {
   "cell_type": "code",
   "execution_count": 9,
   "id": "d70f202a-0515-4f40-a9b1-4738572a837c",
   "metadata": {
    "id": "d70f202a-0515-4f40-a9b1-4738572a837c"
   },
   "outputs": [
    {
     "name": "stdout",
     "output_type": "stream",
     "text": [
      "1\n",
      "2\n",
      "3\n",
      "4\n"
     ]
    }
   ],
   "source": [
    "for element in new_iterator:\n",
    "    print(element)"
   ]
  },
  {
   "cell_type": "code",
   "execution_count": 10,
   "id": "AyOjAnCHKUgw",
   "metadata": {
    "id": "AyOjAnCHKUgw"
   },
   "outputs": [],
   "source": [
    "for element in new_iterator:\n",
    "    print(element)"
   ]
  },
  {
   "cell_type": "markdown",
   "id": "72c35894-0caf-41ac-a584-56058b243f29",
   "metadata": {
    "id": "72c35894-0caf-41ac-a584-56058b243f29"
   },
   "source": [
    "# Задание 3 (5 баллов)"
   ]
  },
  {
   "cell_type": "markdown",
   "id": "884be4ed-b388-4b36-ad7d-d6835a87425e",
   "metadata": {
    "id": "884be4ed-b388-4b36-ad7d-d6835a87425e"
   },
   "source": [
    "Представим, что мы установили себе некотурую библиотеку, которая содержит в себе два класса `MyString` и `MySet`, которые являются наследниками `str` и `set`, но также несут и дополнительные методы.\n",
    "\n",
    "Проблема заключается в том, что библиотеку писали не очень аккуратные люди, поэтому получилось так, что некоторые методы возвращают не тот тип данных, который мы ожидаем. Например, `MyString().reverse()` возвращает объект класса `str`, хотя логичнее было бы ожидать объект класса `MyString`.\n",
    "\n",
    "Найдите и реализуйте удобный способ сделать так, чтобы подобные методы возвращали экземпляр текущего класса, а не родительского. При этом **код методов изменять нельзя**\n",
    "\n",
    "**+3 дополнительных балла** за реализацию того, чтобы **унаследованные от `str` и `set` методы** также возвращали объект интересующего нас класса (то есть `MyString.replace(..., ...)` должен возвращать `MyString`). **Переопределять методы нельзя**\n",
    "\n",
    "**Модули использовать нельзя**"
   ]
  },
  {
   "cell_type": "code",
   "execution_count": 11,
   "id": "7973388e-c16f-437f-a1af-30ddd69f7671",
   "metadata": {
    "id": "7973388e-c16f-437f-a1af-30ddd69f7671"
   },
   "outputs": [],
   "source": [
    "# Ваш код где угодно, но не внутри методов\n",
    "\n",
    "\n",
    "class MyString(str):       \n",
    "\n",
    "    def proper_class_wrapper(func):\n",
    "        def inner_fun(self):\n",
    "            res = func(self)\n",
    "            return type(self)(res)\n",
    "        return inner_fun\n",
    "\n",
    "    @proper_class_wrapper\n",
    "    def reverse(self):\n",
    "        return self[::-1]\n",
    "    \n",
    "    @proper_class_wrapper\n",
    "    def make_uppercase(self):\n",
    "        return \"\".join([chr(ord(char) - 32) if 97 <= ord(char) <= 122 else char for char in self])\n",
    "    \n",
    "    @proper_class_wrapper\n",
    "    def make_lowercase(self):\n",
    "        return \"\".join([chr(ord(char) + 32) if 65 <= ord(char) <= 90 else char for char in self])\n",
    "    \n",
    "    @proper_class_wrapper\n",
    "    def capitalize_words(self):\n",
    "        return \" \".join([word.capitalize() for word in self.split()])\n",
    "    \n",
    "    \n",
    "class MySet(set):\n",
    "\n",
    "    def proper_class_wrapper(func):\n",
    "        def inner_fun(self, other):\n",
    "            res = func(self, other)\n",
    "            return type(self)(res)\n",
    "        return inner_fun\n",
    "    \n",
    "    def is_empty(self):\n",
    "        return len(self) == 0\n",
    "    \n",
    "    def has_duplicates(self):\n",
    "        return len(self) != len(set(self))\n",
    "    \n",
    "    @proper_class_wrapper\n",
    "    def union_with(self, other):\n",
    "        return self.union(other)\n",
    "    \n",
    "    @proper_class_wrapper\n",
    "    def intersection_with(self, other):\n",
    "        return self.intersection(other)\n",
    "    \n",
    "    @proper_class_wrapper\n",
    "    def difference_with(self, other):\n",
    "        return self.difference(other)"
   ]
  },
  {
   "cell_type": "code",
   "execution_count": 12,
   "id": "8b985a7b-ddf2-47ce-8b76-a4dd921a2e06",
   "metadata": {
    "colab": {
     "base_uri": "https://localhost:8080/"
    },
    "id": "8b985a7b-ddf2-47ce-8b76-a4dd921a2e06",
    "outputId": "136f1af3-356b-4e47-8f93-9a7611b7e8b2"
   },
   "outputs": [
    {
     "name": "stdout",
     "output_type": "stream",
     "text": [
      "<class '__main__.MyString'>\n",
      "<class '__main__.MyString'>\n",
      "<class '__main__.MyString'>\n",
      "<class '__main__.MyString'>\n",
      "\n",
      "<class 'bool'>\n",
      "<class 'bool'>\n",
      "<class '__main__.MySet'>\n",
      "<class '__main__.MySet'>\n"
     ]
    }
   ],
   "source": [
    "string_example = MyString(\"Aa Bb Cc\")\n",
    "set_example_1 = MySet({1, 2, 3, 4})\n",
    "set_example_2 = MySet({3, 4, 5, 6, 6})\n",
    "\n",
    "print(type(string_example.reverse()))\n",
    "print(type(string_example.make_uppercase()))\n",
    "print(type(string_example.make_lowercase()))\n",
    "print(type(string_example.capitalize_words()))\n",
    "print()\n",
    "print(type(set_example_1.is_empty()))\n",
    "print(type(set_example_2.has_duplicates()))\n",
    "print(type(set_example_1.union_with(set_example_2)))\n",
    "print(type(set_example_1.difference_with(set_example_2)))"
   ]
  },
  {
   "cell_type": "markdown",
   "id": "f246ecea-9aaa-45c6-98e4-996dc9cdce14",
   "metadata": {
    "id": "f246ecea-9aaa-45c6-98e4-996dc9cdce14"
   },
   "source": [
    "# Задание 4 (5 баллов)"
   ]
  },
  {
   "cell_type": "markdown",
   "id": "e66831d7-df9c-4778-9942-bbb8796fef1e",
   "metadata": {
    "id": "e66831d7-df9c-4778-9942-bbb8796fef1e"
   },
   "source": [
    "Напишите декоратор `switch_privacy`:\n",
    "1. Делает все публичные **методы** класса приватными\n",
    "2. Делает все приватные методы класса публичными\n",
    "3. Dunder методы и защищённые методы остаются без изменений\n",
    "4. Должен работать тестовый код ниже, в теле класса писать код нельзя\n",
    "\n",
    "**Модули использовать нельзя**"
   ]
  },
  {
   "cell_type": "code",
   "execution_count": 13,
   "id": "0Q_tFSkRRp2j",
   "metadata": {
    "id": "0Q_tFSkRRp2j"
   },
   "outputs": [],
   "source": [
    "def switch_privacy(orig_class):\n",
    "\n",
    "    attrs = []\n",
    "\n",
    "    for attr in dir(orig_class):\n",
    "        if not attr[-2:] == '__':\n",
    "            attrs.append(attr)\n",
    "\n",
    "    for attr in attrs:\n",
    "\n",
    "        if orig_class.__name__ in attr:\n",
    "            setattr(orig_class, attr.split('__')[1], getattr(orig_class, attr))\n",
    "            delattr(orig_class, attr)\n",
    "\n",
    "        elif attr[0] != '_':\n",
    "            setattr(orig_class, f'_{orig_class.__name__}__{attr}', getattr(orig_class, attr))\n",
    "            delattr(orig_class, attr)\n",
    "\n",
    "    return orig_class"
   ]
  },
  {
   "cell_type": "code",
   "execution_count": 14,
   "id": "733db8d6-87b8-4797-97be-d3b901422ded",
   "metadata": {
    "id": "733db8d6-87b8-4797-97be-d3b901422ded"
   },
   "outputs": [],
   "source": [
    "@switch_privacy\n",
    "class ExampleClass:\n",
    "    # Но не здесь\n",
    "    def public_method(self):\n",
    "        return 1\n",
    "    \n",
    "    def _protected_method(self):\n",
    "        return 2\n",
    "    \n",
    "    def __private_method(self):\n",
    "        return 3\n",
    "    \n",
    "    def __dunder_method__(self):\n",
    "        pass"
   ]
  },
  {
   "cell_type": "code",
   "execution_count": 15,
   "id": "c936077d-e618-459c-bbcc-6ad1b22d0975",
   "metadata": {
    "colab": {
     "base_uri": "https://localhost:8080/"
    },
    "id": "c936077d-e618-459c-bbcc-6ad1b22d0975",
    "outputId": "0c928ea9-7d16-4ae6-ff71-cb43e65fbe0d"
   },
   "outputs": [
    {
     "data": {
      "text/plain": [
       "1"
      ]
     },
     "execution_count": 15,
     "metadata": {},
     "output_type": "execute_result"
    }
   ],
   "source": [
    "test_object = ExampleClass()\n",
    "\n",
    "test_object._ExampleClass__public_method()   # Публичный метод стал приватным"
   ]
  },
  {
   "cell_type": "code",
   "execution_count": 16,
   "id": "10603672-80cf-460c-9305-d0950094419d",
   "metadata": {
    "colab": {
     "base_uri": "https://localhost:8080/"
    },
    "id": "10603672-80cf-460c-9305-d0950094419d",
    "outputId": "0f3cfc84-d949-441a-f41a-aedff77bd6e1"
   },
   "outputs": [
    {
     "data": {
      "text/plain": [
       "3"
      ]
     },
     "execution_count": 16,
     "metadata": {},
     "output_type": "execute_result"
    }
   ],
   "source": [
    "test_object.private_method()   # Приватный метод стал публичным"
   ]
  },
  {
   "cell_type": "code",
   "execution_count": 17,
   "id": "f30b1ef8-0f80-482d-89f1-09caece61c88",
   "metadata": {
    "colab": {
     "base_uri": "https://localhost:8080/"
    },
    "id": "f30b1ef8-0f80-482d-89f1-09caece61c88",
    "outputId": "749cd493-89e7-4404-e2d1-00cac75aa2cd"
   },
   "outputs": [
    {
     "data": {
      "text/plain": [
       "2"
      ]
     },
     "execution_count": 17,
     "metadata": {},
     "output_type": "execute_result"
    }
   ],
   "source": [
    "test_object._protected_method()   # Защищённый метод остался защищённым"
   ]
  },
  {
   "cell_type": "code",
   "execution_count": 18,
   "id": "71d51e6e-62b5-4440-af3e-75088761b1bf",
   "metadata": {
    "id": "71d51e6e-62b5-4440-af3e-75088761b1bf"
   },
   "outputs": [],
   "source": [
    "test_object.__dunder_method__()   # Дандер метод не изменился"
   ]
  },
  {
   "cell_type": "code",
   "execution_count": 19,
   "id": "a97cf0c4-4881-441c-83b6-ef8955377585",
   "metadata": {
    "colab": {
     "base_uri": "https://localhost:8080/"
    },
    "id": "a97cf0c4-4881-441c-83b6-ef8955377585",
    "outputId": "4b80e8e1-b29d-4bf0-f4bf-b7408c69e639"
   },
   "outputs": [
    {
     "data": {
      "text/plain": [
       "(False, False)"
      ]
     },
     "execution_count": 19,
     "metadata": {},
     "output_type": "execute_result"
    }
   ],
   "source": [
    "hasattr(test_object, \"public_method\"), hasattr(test_object, \"private\")   # Изначальные варианты изменённых методов не сохраняются"
   ]
  },
  {
   "cell_type": "markdown",
   "id": "31ad0bdd-9a24-4d6c-a499-e975b4b6acdd",
   "metadata": {
    "id": "31ad0bdd-9a24-4d6c-a499-e975b4b6acdd"
   },
   "source": [
    "# Задание 5 (7 баллов)"
   ]
  },
  {
   "cell_type": "markdown",
   "id": "68c75d25-37f7-491d-bcc0-ba74e8bdb364",
   "metadata": {
    "id": "68c75d25-37f7-491d-bcc0-ba74e8bdb364"
   },
   "source": [
    "Напишите [контекстный менеджер](https://docs.python.org/3/library/stdtypes.html#context-manager-types) `OpenFasta`\n",
    "\n",
    "Контекстные менеджеры это специальные объекты, которые могут работать с конструкцией `with ... as ...:`. В них нет ничего сложного, для их реализации как обычно нужно только определить только пару dunder методов. Изучите этот вопрос самостоятельно\n",
    "\n",
    "1. Объект должен работать как обычные файлы в питоне (наследоваться не надо, здесь лучше будет использовать **композицию**), но:\n",
    "    + При итерации по объекту мы должны будем получать не строку из файла, а специальный объект `FastaRecord`. Он будет хранить в себе информацию о последовательности. Важно, **не строки, а именно последовательности**, в fasta файлах последовательность часто разбивают на много строк\n",
    "    + Нужно написать методы `read_record` и `read_records`, которые по смыслу соответствуют `readline()` и `readlines()` в обычных файлах, но они должны выдавать не строки, а объект(ы) `FastaRecord`\n",
    "2. Конструктор должен принимать один аргумент - **путь к файлу**\n",
    "3. Класс должен эффективно распоряжаться памятью, с расчётом на работу с очень большими файлами\n",
    "    \n",
    "Объект `FastaRecord`. Это должен быть **датакласс** (см. про примеры декораторов в соответствующей лекции) с тремя полями:\n",
    "+ `seq` - последовательность\n",
    "+ `id_` - ID последовательности (это то, что в фаста файле в строке, которая начинается с `>` до первого пробела. Например, >**GTD326487.1** Species anonymous 24 chromosome) \n",
    "+ `description` - то, что осталось после ID (Например, >GTD326487.1 **Species anonymous 24 chromosome**)\n",
    "\n",
    "\n",
    "Напишите демонстрацию работы кода с использованием всех написанных методов, обязательно добавьте файл с тестовыми данными в репозиторий (не обязательно большой)\n",
    "\n",
    "**Можно использовать модули из стандартной библиотеки**"
   ]
  },
  {
   "cell_type": "code",
   "execution_count": 20,
   "id": "x9w8rhAwZo2x",
   "metadata": {
    "id": "x9w8rhAwZo2x"
   },
   "outputs": [],
   "source": [
    "import os\n",
    "import re\n",
    "from dataclasses import dataclass"
   ]
  },
  {
   "cell_type": "code",
   "execution_count": 21,
   "id": "5188b5d5-1e6e-4b11-9b54-9ba809210dfc",
   "metadata": {
    "id": "5188b5d5-1e6e-4b11-9b54-9ba809210dfc"
   },
   "outputs": [],
   "source": [
    "@dataclass\n",
    "class FastaRecord:\n",
    "    id_: str\n",
    "    description: str\n",
    "    seq: str\n",
    "    \n",
    "\n",
    "class OpenFasta:\n",
    "    \n",
    "    __current_line = None\n",
    "\n",
    "    def __init__(self, path): # here only path!\n",
    "        self.path = path\n",
    "        self.file_obj = None\n",
    "        self.text = None\n",
    "    \n",
    "    def __enter__(self):\n",
    "        self.file_obj = open(self.path)\n",
    "        return self\n",
    "\n",
    "    def __exit__(self, exc_type, exc_value, exc_tb):\n",
    "            self.file_obj.close()\n",
    "    \n",
    "    def __iter__(self):\n",
    "        while True:\n",
    "            try:\n",
    "                yield self.read_record()\n",
    "            except StopIteration:\n",
    "                break\n",
    "    \n",
    "                  \n",
    "    def read_record(self):\n",
    "        \n",
    "        if not self.__current_line:\n",
    "            for line in self.file_obj:\n",
    "                if line.strip() == \"\":\n",
    "                    continue\n",
    "                elif re.match('>', line):\n",
    "                    self.__current_line = line\n",
    "                    break\n",
    "                    \n",
    "        if self.__current_line:\n",
    "            space = self.__current_line.find(' ')\n",
    "            id_ = self.__current_line[1:space].strip()\n",
    "            seq = []\n",
    "            description = self.__current_line[space+1:].strip()\n",
    "\n",
    "        for line in self.file_obj:\n",
    "            if line.strip() == \"\":\n",
    "                continue\n",
    "            elif re.match('>', line):\n",
    "                self.__current_line = line\n",
    "                return FastaRecord(id_, description, ''.join(seq))\n",
    "            else:\n",
    "                seq.append(line.strip())\n",
    "        else:\n",
    "            if not seq:\n",
    "                raise StopIteration('There are no more fasta records')\n",
    "            return FastaRecord(id_, description, ''.join(seq))\n",
    "\n",
    "    \n",
    "    def read_records(self):\n",
    "        records = []\n",
    "        for line in self.file_obj:\n",
    "            records.append(self.read_record())\n",
    "        return records\n"
   ]
  },
  {
   "cell_type": "code",
   "execution_count": 23,
   "id": "ENtAXYBDiQa4",
   "metadata": {
    "colab": {
     "base_uri": "https://localhost:8080/",
     "height": 342
    },
    "id": "ENtAXYBDiQa4",
    "outputId": "fffdfa42-687a-4de6-da46-c8b157622f59"
   },
   "outputs": [
    {
     "name": "stdout",
     "output_type": "stream",
     "text": [
      "id of the first record: NM_001130837.2\n",
      "\n",
      "FastaRecord object:\n",
      "FastaRecord(id_='NM_001130835.2', description='Canis lupus familiaris solute carrier family 2 member 9 (SLC2A9), mRNA', seq='GGACTCTGCCTCTTGCTCAGAGATGCCCTGGCCCGGCTCACAGCCTGCGGAGCATGGACTCCCGGGCCCGGGCTCACCCAGGGGCTGCCAAGCGTGGCCGCACCCCAAGAGGGACGCCGGGCAGGAGGACCAGAAAGGACTGGTCCTGCTTGCTCCTCGTGGCCTCCTTCGTGGGCGCCTTCGGCTCCTCCTTCCTCTACGGGTACAACCTGTCGGTGGTGAACGCCCCCACTCCGTACATCAAGGCCTTCTACAATGAATCGTGGGAAAGAAGACATGGGCATCCAATAGACCCAGACACTCTCACTCTGCTCTGGTCTGTGACGGTGTCCATATTTGCCATTGGTGGACTTGTGGGGACTTTAATGGTGAAGCTGATCGGAAAAGTTCTTGGGAGGAAGTACACTCTGCTGGTCAACAATGGGTTTGCGATTTCTGCTGCATTGCTGATGGCCTGTTCTCTCCAGGCAGGAGCCTTCGAAATGCTCATTGTGGGACGCTTCATCATGGGCGTGGATGGAGGCATCTCGCTCAGCGTGCTCCCCATGTACCTGAATGAGATCTCACCCAAGGAGATCCGTGGCGCTCTGGGGCAGGTGACTGCCATCTTCATCTGCATCGGTGTGTTCACCGGGCAGCTGCTGGGCCTGCCTGAGCTGCTGGGGAAGGAGAGCACCTGGCCATACCTGTTTGGAGTGATTGCTGTCCCCGCCTTGGTCCAGCTGGTGAGCCTGCCCTTTCTCCCTGAGAGCCCGCGCTTCCTGCTCTTTGAGAAGCATGACCAGGCAGGAGCCGAGAAAGCCTTCCAGACTTTCCTGGGCAAAGAGGATGTCTCCCGAGAGGTGGAGGAGGTCCTGGCAGAGAGCCGCGTGCAGAGGAACATCCAACTGGTGTCCGTGCTGGAGCTGCTCCGGAGTCCCTTTGTGCGCTGGCAGGTCATCACTGTGATCGTCACCATGGCCTGTTACCAGCTCTGCGGCCTCAACGCGATTTGGTTCTACACCAATAGCATCTTTGGCAAAGCTGGGATCTCACCGGAAAAGATCCCATACATTACCCTGAGTACTGGTGGCATCGAGACGCTGGCTGCCATCTTCTCTGGCTTGGTCATCGAGCGCCTGGGACGGAGACCCCTCCTCATAGGTGGCTTTGGGCTGATGGCCCTCTTCTTTGGGATCATCACCATCACATTGACATTTCAGGACCATGCCCCCTGGATCCCATACCTGAGTATTGTGTGCATCCTAGCCATCATCGCCTCCTTCTGCAGTGGGCCAGGGGGCATCCCATTCATCCTGACCGGCGAGTTCTTCCAACAATCCCAGAGGCCAGCTGCCTTCATCATTGCGGGCACCGTCAACTGGCTCTCCAACTTTGCTGTCGGGCTCCTCTTCCCATTCATTCAGAAAAGTCTGGACACCTACTGTTTCCTGGTCTTTGCCACAATCTGCCTCACGGGTGCTGTCTATTTCTATTTTGTCCTGCCTGAGACAAAAAACAGAACATTTGCGGAAATCAGCCAGGCATTCGCCAAAAGGAACAAGGCAATCCCACCAGAGGAGAACACCAACTCAGCTGCATCTGATGCTAAGGTGACCAGAAGGCCCGAGCCAGACCCTGCCTCCACTCTGGACAATTATACCAAAAATGGGATTGTCTAAATGGATGATCTCAGCATTTCAGGAAACCAAAGTTTTCCCTACATGGTTAATAGTATTAAGTATTTAAAAATAAACCTTTGCTAATCTAACGTCACAAAAA')\n",
      "\n",
      "Last FastaRecord object:\n",
      "[FastaRecord(id_='EU371511.1', description='Canis lupus familiaris solute carrier family 2 member 9 protein variant N (SLC2A9) mRNA, complete cds, alternatively spliced', seq='GGCTCACCCAGGGGCTGCCAAGCGTGGCCGCACCCCAAGAGGGACGCCGGGCAGGAGGACCAGAAAGGACTGGTCCTGCTTGCTCCTCGTGGCCTCCTTCGTGGGCGCCTTCGGCTCCTCCTTCCTCTACGGGTACAACCTGTCGGTGGTGAACGCCCCCACTCCGTACATCAAGGCCTTCTACAATGAATCGTGGGAAAGAAGACATGGGCATCCAATAGACCCAGACACTCTCACTCTGCTCTGGTCTGTGACGGTGTCCATATTTGCCATTGGTGGACTTGTGGGGACTTTAATGGTGAAGCTGATCGGAAAAGTTCTTGGGAGGAAGTACACTCTGCTGGTCAACAATGGGTTTGCGATTTCTGCTGCATTGCTGATGGCCTGTTCTCTCCAGGCAGGAGCCTTCGAAATGCTCATTGTGGGACGCTTCATCATGGGCGTGGATGGAGGCATCTCGCTCAGCGTGCTCCCCATGTACCTGAATGAGATCTCACCCAAGGAGATCCGTGGCGCTCTGGGGCAGGTGACTGCCATCTTCATCTTCATCGGTGTGTTCACCGGGCAGCTGCTGGGCCTGCCTGAGCTGCTGGGGAAGGAGAGCACCTGGCCATACCTGTTTGGAGTGATTGCTGTCCCCGCCTTGGTCCAGCTGGTGAGCCTGCCCTTTCTCCCTGAGAGCCCGCGCTTCCTGCTCTTTGAGAAGCATGACCAGGCAGGAGCCGAGAAAGCCTTCCAGACTTTCCTGGGCAAAGAGGATGTCTCCCGAGAGGTGGAGGAGGTCCTGGCAGAGAGCCGCGTGCAGAGGAACATCCAACTGGTGTCCGTGCTGGAGCTGCTCCGGAGTCCCTTTGTGCGCTGGCAGGTCATCACTGTGATCGTCACCATGGCCTGTTACCAGCTCTGCGGCCTCAACGCGATTTGGTTCTACACCAATAGCATCTTTGGCAAAGCTGGGATCTCACCGGAAAAGATCCCATACATTACCCTGAGTACTGGTGGCATCGAGACGCTGGCTGCCATCTTCTCTGGCTTGGTCATCGAGCGCCTGGGACGGAGACCCCTCCTCATAGGTGGCTTTGGGCTGATGGCCCTCTTCTTTGGGATCATCACCATCACATTGACATTTCAGGACCATGCCCCCTGGATCCCATACCTGAGTATTGTGTGCATCCTAGCCATCATCGCCTCCTTCTGCAGTGGGCCAGGTGGCATCCCATTCATCCTGACCGGCGAGTTCTTCCAACAATCCCAGAGGCCAGCTGCCTTCATCATTGCGGGCACCATCAACTGGCTCTCCAACTTTGCTGTCGGGCTCCTCTTCCCATTCATTCAGAAAAGTCTGGACACCTACTGTTTCCTGGTCTTTGCCACAATCTGCCTCACGGGTGCTGTCTATTTCTATTTTGTCCTGCCTGAGACAAAAAACAGAACATTTGCGGAAATCAGCCAGGCATTCGCCAAAAGGAACAAGGCAATCCCACCAGAGGAGAACACCAACTCAGCTGCATCTGATGCTAAGGTGACCAGAAGGCCCGAGCCAGACCCTGCCTCCACTCTGGACAATTATACCAAAAATGGGATTGTCTAATAAATGGATGATCTCAGCATTTCAGGAAACCAAAGTTTTCCCTACATGGTTAATAGTATTAAGTATTTAAAAATAAACCTTTGCTAATCTAACGTC')]\n"
     ]
    }
   ],
   "source": [
    "with OpenFasta('../data/seq.fasta') as fasta:\n",
    "    \n",
    "    for record in fasta:\n",
    "        print(f\"id of the first record: {record.id_}\")\n",
    "        print()\n",
    "        break\n",
    "    \n",
    "    print(f\"FastaRecord object:\\n{fasta.read_record()}\")\n",
    "    print()\n",
    "    fasta.read_record()\n",
    "    fasta.read_record()\n",
    "    fasta.read_record()\n",
    "    fasta.read_record()\n",
    "    fasta.read_record()\n",
    "    \n",
    "    print(f'Last FastaRecord object:\\n{fasta.read_records()}')\n",
    "    "
   ]
  },
  {
   "cell_type": "markdown",
   "id": "4db652e9-7697-4dd7-bcc3-649bdc18c1c4",
   "metadata": {
    "id": "4db652e9-7697-4dd7-bcc3-649bdc18c1c4"
   },
   "source": [
    "# Задание 6 (7 баллов)"
   ]
  },
  {
   "cell_type": "markdown",
   "id": "a8ba05f3-29f0-48be-a477-c1f61a9e0537",
   "metadata": {
    "id": "a8ba05f3-29f0-48be-a477-c1f61a9e0537"
   },
   "source": [
    "1. Напишите код, который позволит получать все возможные (неуникальные) генотипы при скрещивании двух организмов. Это может быть функция или класс, что вам кажется более удобным.\n",
    "\n",
    "Например, все возможные исходы скрещивания \"Aabb\" и \"Aabb\" (неуникальные) это\n",
    "\n",
    "```\n",
    "AAbb\n",
    "AAbb\n",
    "AAbb\n",
    "AAbb\n",
    "Aabb\n",
    "Aabb\n",
    "Aabb\n",
    "Aabb\n",
    "Aabb\n",
    "Aabb\n",
    "Aabb\n",
    "Aabb\n",
    "aabb\n",
    "aabb\n",
    "aabb\n",
    "aabb\n",
    "```\n",
    "\n",
    "2. Напишите функцию, которая вычисляет вероятность появления определённого генотипа (его ожидаемую долю в потомстве).\n",
    "Например,\n",
    "\n",
    "```python\n",
    "get_offspting_genotype_probability(parent1=\"Aabb\", parent2=\"Aabb\", target_genotype=\"Аabb\")   # 0.5\n",
    "\n",
    "```\n",
    "\n",
    "3. Напишите код, который выводит все уникальные генотипы при скрещивании `'АаБбввГгДдЕеЖжЗзИиЙйккЛлМмНн'` и `'АаббВвГгДДЕеЖжЗзИиЙйКкЛлМмНН'`, которые содержат в себе следующую комбинацию аллелей `'АаБбВвГгДдЕеЖжЗзИиЙйКкЛл'`\n",
    "4. Напишите код, который расчитывает вероятность появления генотипа `'АаБбввГгДдЕеЖжЗзИиЙйккЛлМмНн'` при скрещивании `АаБбВвГгДдЕеЖжЗзИиЙйКкЛлМмНн` и `АаБбВвГгДдЕеЖжЗзИиЙйКкЛлМмНн`\n",
    "\n",
    "Важные замечания:\n",
    "1. Порядок следования аллелей в случае гетерозигот всегда должен быть следующим: сначала большая буква, затем маленькая (вариант `AaBb` допустим, но `aAbB` быть не должно)\n",
    "2. Подзадачи 3 и 4 могут потребовать много вычислительного времени (до 15+ минут в зависимости от железа), поэтому убедитесь, что вы хорошо протестировали написанный вами код на малых данных перед выполнением этих задач. Если ваш код работает **дольше 20 мин**, то скорее всего ваше решение не оптимально, попытайтесь что-нибудь оптимизировать. Если оптимальное решение совсем не получается, то попробуйте из входных данных во всех заданиях убрать последний ген (это должно уменьшить время выполнения примерно в 4 раза), но **за такое решение будет снято 2 балла**\n",
    "3. Несмотря на то, что подзадания 2, 3 и 4 возможно решить математически, не прибегая к непосредственному получению всех возможных генотипов, от вас требуется именно brute-force вариант алгоритма\n",
    "\n",
    "**Можно использовать модули из стандартной библиотеки питона**, но **за выполнение задания без использования модулей придусмотрено +3 дополнительных балла**"
   ]
  },
  {
   "cell_type": "markdown",
   "id": "3c49bb3d",
   "metadata": {},
   "source": [
    "### 1."
   ]
  },
  {
   "cell_type": "code",
   "execution_count": 24,
   "id": "d46e5ec5",
   "metadata": {},
   "outputs": [],
   "source": [
    "import itertools"
   ]
  },
  {
   "cell_type": "code",
   "execution_count": 25,
   "id": "f5b129ef",
   "metadata": {},
   "outputs": [],
   "source": [
    "def all_genotypes(parent1=\"Aabb\", parent2=\"Aabb\"):\n",
    "    \n",
    "    all_genotypes = []\n",
    "    for i in range(0, len(parent1), 2):\n",
    "        genotype = []\n",
    "        for el in itertools.product(parent1[i:i+2], parent2[i:i+2]):\n",
    "            genotype.append(sorted(list(el)))\n",
    "        all_genotypes.append(genotype)\n",
    "    \n",
    "    for combination in itertools.product(*all_genotypes):\n",
    "            patially_joined = map(lambda x: ''.join(x), combination)\n",
    "            print(''.join(patially_joined))"
   ]
  },
  {
   "cell_type": "code",
   "execution_count": 26,
   "id": "956c9753",
   "metadata": {},
   "outputs": [
    {
     "name": "stdout",
     "output_type": "stream",
     "text": [
      "AAbb\n",
      "AAbb\n",
      "AAbb\n",
      "AAbb\n",
      "Aabb\n",
      "Aabb\n",
      "Aabb\n",
      "Aabb\n",
      "Aabb\n",
      "Aabb\n",
      "Aabb\n",
      "Aabb\n",
      "aabb\n",
      "aabb\n",
      "aabb\n",
      "aabb\n"
     ]
    }
   ],
   "source": [
    "all_genotypes()"
   ]
  },
  {
   "cell_type": "markdown",
   "id": "e2a24647",
   "metadata": {},
   "source": [
    "### 2. maybe too much mathematics"
   ]
  },
  {
   "cell_type": "code",
   "execution_count": 27,
   "id": "21f63d0d",
   "metadata": {},
   "outputs": [],
   "source": [
    "def probability_genotype(parent1=\"Aabb\", parent2=\"Aabb\", \n",
    "                 target_genotype = 'Aabb'):\n",
    "    \n",
    "    target = list()\n",
    "    \n",
    "    for i in range(0, len(parent1), 2):\n",
    "        target.append((target_genotype[i], target_genotype[i+1]))\n",
    "\n",
    "    all_genotypes = []\n",
    "    for i in range(0, len(parent1), 2):\n",
    "        genotype = []\n",
    "        for el in itertools.product(parent1[i:i+2], parent2[i:i+2]):\n",
    "            genotype.append(tuple(sorted(list(el))))\n",
    "        all_genotypes.append(genotype)\n",
    "    \n",
    "    p = 1\n",
    "    for n , allele in enumerate(target):\n",
    "        p *= all_genotypes[n].count(allele) / len(all_genotypes[n])\n",
    "        \n",
    "    return p"
   ]
  },
  {
   "cell_type": "code",
   "execution_count": 28,
   "id": "db0b1130",
   "metadata": {},
   "outputs": [
    {
     "data": {
      "text/plain": [
       "0.5"
      ]
     },
     "execution_count": 28,
     "metadata": {},
     "output_type": "execute_result"
    }
   ],
   "source": [
    "probability_genotype()"
   ]
  },
  {
   "cell_type": "markdown",
   "id": "bbe40a80",
   "metadata": {},
   "source": [
    "### 3."
   ]
  },
  {
   "cell_type": "markdown",
   "id": "972f1fe0",
   "metadata": {},
   "source": [
    "## Do not run this code (32 min on 32GB, 16GB and 8GB RAM )"
   ]
  },
  {
   "cell_type": "code",
   "execution_count": 29,
   "id": "00cfa0e1",
   "metadata": {},
   "outputs": [],
   "source": [
    "def all_genotypes_find(parent1, parent2, to_find, file_to_record):\n",
    "    \n",
    "    all_genotypes = []\n",
    "    for i in range(0, len(parent1), 2):\n",
    "        genotype = []\n",
    "        for el in itertools.product(parent1[i:i+2], parent2[i:i+2]):\n",
    "            genotype.append(sorted(list(el)))\n",
    "        all_genotypes.append(genotype)\n",
    "    \n",
    "    with open(file_to_record, 'a') as file:\n",
    "        for combination in itertools.product(*all_genotypes):\n",
    "                patially_joined = map(lambda x: ''.join(x), combination)\n",
    "                fully_joined = ''.join(patially_joined)\n",
    "                if to_find in fully_joined:\n",
    "                    print(fully_joined, file=file)"
   ]
  },
  {
   "cell_type": "code",
   "execution_count": 30,
   "id": "5cac73bc",
   "metadata": {
    "scrolled": true
   },
   "outputs": [],
   "source": [
    "all_genotypes_find(parent1='АаБбввГгДдЕеЖжЗзИиЙйккЛлМмНн', parent2='АаббВвГгДДЕеЖжЗзИиЙйКкЛлМмНН', \n",
    "                   to_find='АаБбВвГгДдЕеЖжЗзИиЙйКкЛл',file_to_record='../data/genotypes_brute_force')"
   ]
  },
  {
   "cell_type": "markdown",
   "id": "2e268699",
   "metadata": {},
   "source": [
    "#### Run this code instead (sorry, but maybe it implements too much mathematics )"
   ]
  },
  {
   "cell_type": "code",
   "execution_count": 37,
   "id": "69c504a9",
   "metadata": {},
   "outputs": [],
   "source": [
    "def tricky_finder(parent1, parent2, to_find, file_to_record):\n",
    "    \n",
    "    target = list()\n",
    "    \n",
    "    for i in range(0, len(to_find), 2):\n",
    "        target.append([to_find[i], to_find[i+1]])\n",
    "    \n",
    "    all_genotypes = []\n",
    "    for i in range(0, len(parent1), 2):\n",
    "        genotype = []\n",
    "        for el in itertools.product(parent1[i:i+2], parent2[i:i+2]):\n",
    "            genotype.append(sorted(list(el)))\n",
    "        all_genotypes.append(genotype)\n",
    "    \n",
    "    new_all_genotypes = []\n",
    "    \n",
    "    for n in range(len(all_genotypes)):\n",
    "        new_all_genotypes.append(all_genotypes[n].copy())\n",
    "    \n",
    "    for n, allele in enumerate(target):\n",
    "        for variant in all_genotypes[n]:\n",
    "            if allele != variant:\n",
    "                new_all_genotypes[n].remove(variant)\n",
    "    \n",
    "    with open(file_to_record, 'a') as file:\n",
    "        for combination in itertools.product(*new_all_genotypes):\n",
    "                patially_joined = map(lambda x: ''.join(x), combination)\n",
    "                print(''.join(patially_joined), file=file)"
   ]
  },
  {
   "cell_type": "code",
   "execution_count": 38,
   "id": "91dc13c0",
   "metadata": {},
   "outputs": [],
   "source": [
    "tricky_finder(parent1='АаБбввГгДдЕеЖжЗзИиЙйккЛлМмНн', \n",
    "              parent2='АаббВвГгДДЕеЖжЗзИиЙйКкЛлМмНН', \n",
    "              to_find='АаБбВвГгДдЕеЖжЗзИиЙйКкЛл',\n",
    "              file_to_record = '../data/genotypes_tricky.txt')"
   ]
  },
  {
   "cell_type": "markdown",
   "id": "6cfd28fb",
   "metadata": {},
   "source": [
    "### 4."
   ]
  },
  {
   "cell_type": "code",
   "execution_count": 33,
   "id": "34bed24c",
   "metadata": {},
   "outputs": [
    {
     "data": {
      "text/plain": [
       "1.52587890625e-05"
      ]
     },
     "execution_count": 33,
     "metadata": {},
     "output_type": "execute_result"
    }
   ],
   "source": [
    "probability_genotype(parent1=\"АаБбВвГгДдЕеЖжЗзИиЙйКкЛлМмНн\", parent2=\"АаБбВвГгДдЕеЖжЗзИиЙйКкЛлМмНн\", \n",
    "                 target_genotype = 'АаБбввГгДдЕеЖжЗзИиЙйккЛлМмНн')"
   ]
  }
 ],
 "metadata": {
  "colab": {
   "provenance": []
  },
  "kernelspec": {
   "display_name": "Python 3 (ipykernel)",
   "language": "python",
   "name": "python3"
  },
  "language_info": {
   "codemirror_mode": {
    "name": "ipython",
    "version": 3
   },
   "file_extension": ".py",
   "mimetype": "text/x-python",
   "name": "python",
   "nbconvert_exporter": "python",
   "pygments_lexer": "ipython3",
   "version": "3.10.6"
  }
 },
 "nbformat": 4,
 "nbformat_minor": 5
}
