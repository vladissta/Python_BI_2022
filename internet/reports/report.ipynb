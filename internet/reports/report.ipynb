{
 "cells": [
  {
   "cell_type": "markdown",
   "id": "4617850b-76fe-4314-a959-5710bf8b0410",
   "metadata": {
    "id": "4617850b-76fe-4314-a959-5710bf8b0410"
   },
   "source": [
    "# Задание 1 (6 баллов)"
   ]
  },
  {
   "cell_type": "markdown",
   "id": "1008bff2-4681-4f7b-b227-ae4c08a5793f",
   "metadata": {
    "id": "1008bff2-4681-4f7b-b227-ae4c08a5793f"
   },
   "source": [
    "В данном задании мы будем работать со [списком 250 лучших фильмов IMDb](https://www.imdb.com/chart/top/?ref_=nv_mp_mv250)\n",
    "\n",
    "1. Выведите топ-4 *фильма* **по количеству оценок пользователей** и **количество этих оценок** (1 балл)\n",
    "2. Выведите топ-4 лучших *года* (**по среднему рейтингу фильмов в этом году**) и **средний рейтинг** (1 балл)\n",
    "3. Постройте отсортированный **barplot**, где показано **количество фильмов** из списка **для каждого режисёра** (только для режиссёров с более чем 2 фильмами в списке) (1 балл)\n",
    "4. Выведите топ-4 самых популярных *режиссёра* (**по общему числу людей оценивших их фильмы**) (2 балла)\n",
    "5. Сохраните данные по всем 250 фильмам в виде таблицы с колонками (name, rank, year, rating, n_reviews, director) в любом формате (2 балла)\n",
    "\n",
    "Использовать можно что-угодно, но полученные данные должны быть +- актуальными на момент сдачи задания"
   ]
  },
  {
   "cell_type": "code",
   "execution_count": 1,
   "id": "ef5a6999-e51a-4147-8365-a29853689f52",
   "metadata": {
    "id": "ef5a6999-e51a-4147-8365-a29853689f52"
   },
   "outputs": [],
   "source": [
    "import requests\n",
    "from bs4 import BeautifulSoup\n",
    "import numpy as np\n",
    "import pandas as pd\n",
    "import re\n",
    "import matplotlib.pyplot as plt\n",
    "import seaborn as sns"
   ]
  },
  {
   "cell_type": "code",
   "execution_count": 2,
   "id": "y4IU_ISpWXeX",
   "metadata": {
    "colab": {
     "base_uri": "https://localhost:8080/"
    },
    "id": "y4IU_ISpWXeX",
    "outputId": "6ed50f3c-c07b-4b93-ff22-ca8cdcecd75f"
   },
   "outputs": [],
   "source": [
    "response = requests.get('https://www.imdb.com/chart/top/?ref_=nv_mp_mv250', \n",
    "                        headers = {'Accept-Language': 'en-EN,en;q=0.9'})"
   ]
  },
  {
   "cell_type": "markdown",
   "id": "Ze1ye8X_ayzR",
   "metadata": {
    "id": "Ze1ye8X_ayzR"
   },
   "source": [
    "1. Топ-4 *фильма* **по количеству оценок пользователей** и **количество этих оценок**"
   ]
  },
  {
   "cell_type": "code",
   "execution_count": 3,
   "id": "rV0STnOsW7ws",
   "metadata": {
    "id": "rV0STnOsW7ws"
   },
   "outputs": [],
   "source": [
    "soup = BeautifulSoup(response.content, 'lxml')\n",
    "rating_string = soup.find_all('td', class_=\"ratingColumn imdbRating\")\n",
    "names_of_film = soup.find_all('td', class_=\"titleColumn\")"
   ]
  },
  {
   "cell_type": "code",
   "execution_count": 4,
   "id": "B4sZ94ClX8Va",
   "metadata": {
    "colab": {
     "base_uri": "https://localhost:8080/"
    },
    "id": "B4sZ94ClX8Va",
    "outputId": "5cfa4842-1645-4056-c987-bc8bad918856"
   },
   "outputs": [
    {
     "name": "stdout",
     "output_type": "stream",
     "text": [
      "The Shawshank Redemption - 9.2 based on 2,720,798 user ratings\n",
      "The Godfather - 9.2 based on 1,890,749 user ratings\n",
      "The Dark Knight - 9.0 based on 2,693,621 user ratings\n",
      "The Godfather Part II - 9.0 based on 1,290,004 user ratings\n"
     ]
    }
   ],
   "source": [
    "for i in range(4):\n",
    "    print(names_of_film[i].find('a').text, end=' - ')\n",
    "    print(rating_string[i].find('strong').attrs['title'])"
   ]
  },
  {
   "cell_type": "markdown",
   "id": "DTMjiqmueBvY",
   "metadata": {
    "id": "DTMjiqmueBvY"
   },
   "source": [
    "2. Топ-4 лучших *года* (**по среднему рейтингу фильмов в этом году**) и **средний рейтинг**"
   ]
  },
  {
   "cell_type": "code",
   "execution_count": 5,
   "id": "uJAJBaxAX8QB",
   "metadata": {
    "id": "uJAJBaxAX8QB"
   },
   "outputs": [],
   "source": [
    "years_rates = dict()\n",
    "\n",
    "for i in range(len(names_of_film)):\n",
    "    year = names_of_film[i].find('span', class_=\"secondaryInfo\").text.strip('()')\n",
    "    rating = rating_string[i].find('strong').text\n",
    "    \n",
    "    years_rates[year] = years_rates.get(year, np.array([0, 0])) + np.array([float(rating), 1])\n",
    "\n",
    "for year, stats in years_rates.items():\n",
    "    years_rates.update({year: round(stats[0]/stats[1], 2)})"
   ]
  },
  {
   "cell_type": "code",
   "execution_count": 6,
   "id": "8erJ3LTDX8KN",
   "metadata": {
    "colab": {
     "base_uri": "https://localhost:8080/",
     "height": 175
    },
    "id": "8erJ3LTDX8KN",
    "outputId": "eb6f56fa-c3f1-4f9c-b91c-0fb3ec356894"
   },
   "outputs": [
    {
     "data": {
      "text/html": [
       "<div>\n",
       "<style scoped>\n",
       "    .dataframe tbody tr th:only-of-type {\n",
       "        vertical-align: middle;\n",
       "    }\n",
       "\n",
       "    .dataframe tbody tr th {\n",
       "        vertical-align: top;\n",
       "    }\n",
       "\n",
       "    .dataframe thead th {\n",
       "        text-align: right;\n",
       "    }\n",
       "</style>\n",
       "<table border=\"1\" class=\"dataframe\">\n",
       "  <thead>\n",
       "    <tr style=\"text-align: right;\">\n",
       "      <th></th>\n",
       "      <th>Average Rating</th>\n",
       "    </tr>\n",
       "  </thead>\n",
       "  <tbody>\n",
       "    <tr>\n",
       "      <th>1972</th>\n",
       "      <td>9.20</td>\n",
       "    </tr>\n",
       "    <tr>\n",
       "      <th>1994</th>\n",
       "      <td>8.76</td>\n",
       "    </tr>\n",
       "    <tr>\n",
       "      <th>1974</th>\n",
       "      <td>8.55</td>\n",
       "    </tr>\n",
       "    <tr>\n",
       "      <th>1991</th>\n",
       "      <td>8.55</td>\n",
       "    </tr>\n",
       "  </tbody>\n",
       "</table>\n",
       "</div>"
      ],
      "text/plain": [
       "      Average Rating\n",
       "1972            9.20\n",
       "1994            8.76\n",
       "1974            8.55\n",
       "1991            8.55"
      ]
     },
     "execution_count": 6,
     "metadata": {},
     "output_type": "execute_result"
    }
   ],
   "source": [
    "pd.DataFrame.from_dict(years_rates, orient='index', columns = ['Average Rating']).sort_values(by='Average Rating', ascending=False).head(4)"
   ]
  },
  {
   "cell_type": "markdown",
   "id": "n44_syyRU30L",
   "metadata": {
    "id": "n44_syyRU30L"
   },
   "source": [
    "3. Отсортированный **barplot**, где показано **количество фильмов** из списка **для каждого режисёра** (только для режиссёров с более чем 2 фильмами в списке)"
   ]
  },
  {
   "cell_type": "markdown",
   "id": "0ymIopPkm132",
   "metadata": {
    "id": "0ymIopPkm132"
   },
   "source": [
    "**Решил побаловаться с векторизацией и итераторами** "
   ]
  },
  {
   "cell_type": "code",
   "execution_count": 7,
   "id": "aDw9O8SDX7-9",
   "metadata": {
    "id": "aDw9O8SDX7-9"
   },
   "outputs": [],
   "source": [
    "directors = dict()\n",
    "\n",
    "dirs = soup.find_all('a', title=lambda x: 'dir' in x if x else False)\n",
    "directors = list(map(lambda x: re.search(string=x.attrs['title'], \n",
    "                    pattern=r'([\\w ]+) \\(dir\\.\\)').group(1), dirs))\n",
    "\n",
    "num_films = np.array(np.unique(directors, return_counts=True))\n",
    "num_films_filt = num_films[:,num_films[1,:].astype('int64') > 2]"
   ]
  },
  {
   "cell_type": "code",
   "execution_count": 8,
   "id": "A0KjKArnaRkx",
   "metadata": {
    "id": "A0KjKArnaRkx"
   },
   "outputs": [],
   "source": [
    "sig_dirs_df = pd.DataFrame(num_films_filt.T,\n",
    "                           columns=[\"Director\",\"Number of films\"]).sort_values(by=\"Number of films\", ascending=False)\n",
    "sig_dirs_df[\"Number of films\"] = sig_dirs_df[\"Number of films\"].astype('int64')"
   ]
  },
  {
   "cell_type": "code",
   "execution_count": 9,
   "id": "LJfIxky4bAah",
   "metadata": {
    "colab": {
     "base_uri": "https://localhost:8080/",
     "height": 721
    },
    "id": "LJfIxky4bAah",
    "outputId": "020ed2e1-3a37-4294-8591-0c543f64f321"
   },
   "outputs": [
    {
     "data": {
      "image/png": "[encoded data removed]",
      "text/plain": [
       "<Figure size 1000x1000 with 1 Axes>"
      ]
     },
     "metadata": {},
     "output_type": "display_data"
    }
   ],
   "source": [
    "plt.rcParams[\"figure.figsize\"] = (10,10)\n",
    "plt.xticks(rotation=90, fontsize=12)\n",
    "plt.ylabel('Number of films', fontsize=15)\n",
    "sns.barplot(x=sig_dirs_df['Director'] ,y=sig_dirs_df['Number of films'], color='blue');"
   ]
  },
  {
   "cell_type": "markdown",
   "id": "OpK5TqeYcmtk",
   "metadata": {
    "id": "OpK5TqeYcmtk"
   },
   "source": [
    "4. Топ-4 самых популярных *режиссёра* (**по общему числу людей оценивших их фильмы**)"
   ]
  },
  {
   "cell_type": "code",
   "execution_count": 10,
   "id": "7N4vs7uYcmaj",
   "metadata": {
    "id": "7N4vs7uYcmaj"
   },
   "outputs": [],
   "source": [
    "ratings = soup.find_all('strong', title=lambda x: 'based on' in x if x else False)\n",
    "\n",
    "people_num_str = map(lambda x: re.search(string=x.attrs['title'], \n",
    "                        pattern=r' ([\\d,]+) ').group(1), ratings)\n",
    "\n",
    "people_num = list(map(lambda x: int(x.replace(',','')), people_num_str))\n"
   ]
  },
  {
   "cell_type": "code",
   "execution_count": 11,
   "id": "DW-etoGauAe1",
   "metadata": {
    "colab": {
     "base_uri": "https://localhost:8080/",
     "height": 206
    },
    "id": "DW-etoGauAe1",
    "outputId": "5227f844-3566-47e0-9039-b8ec0d0fa177"
   },
   "outputs": [
    {
     "data": {
      "text/html": [
       "<div>\n",
       "<style scoped>\n",
       "    .dataframe tbody tr th:only-of-type {\n",
       "        vertical-align: middle;\n",
       "    }\n",
       "\n",
       "    .dataframe tbody tr th {\n",
       "        vertical-align: top;\n",
       "    }\n",
       "\n",
       "    .dataframe thead th {\n",
       "        text-align: right;\n",
       "    }\n",
       "</style>\n",
       "<table border=\"1\" class=\"dataframe\">\n",
       "  <thead>\n",
       "    <tr style=\"text-align: right;\">\n",
       "      <th></th>\n",
       "      <th>People rated</th>\n",
       "    </tr>\n",
       "    <tr>\n",
       "      <th>Director</th>\n",
       "      <th></th>\n",
       "    </tr>\n",
       "  </thead>\n",
       "  <tbody>\n",
       "    <tr>\n",
       "      <th>Christopher Nolan</th>\n",
       "      <td>12792345</td>\n",
       "    </tr>\n",
       "    <tr>\n",
       "      <th>Quentin Tarantino</th>\n",
       "      <td>7315572</td>\n",
       "    </tr>\n",
       "    <tr>\n",
       "      <th>Steven Spielberg</th>\n",
       "      <td>7162379</td>\n",
       "    </tr>\n",
       "    <tr>\n",
       "      <th>Martin Scorsese</th>\n",
       "      <td>7057069</td>\n",
       "    </tr>\n",
       "  </tbody>\n",
       "</table>\n",
       "</div>"
      ],
      "text/plain": [
       "                   People rated\n",
       "Director                       \n",
       "Christopher Nolan      12792345\n",
       "Quentin Tarantino       7315572\n",
       "Steven Spielberg        7162379\n",
       "Martin Scorsese         7057069"
      ]
     },
     "execution_count": 11,
     "metadata": {},
     "output_type": "execute_result"
    }
   ],
   "source": [
    "pd.DataFrame({\"Director\":directors, \"People rated\":people_num}).groupby('Director').sum().sort_values(by=\"People rated\", ascending=False).head(4)"
   ]
  },
  {
   "cell_type": "markdown",
   "id": "3DWz0a_Ou8wt",
   "metadata": {
    "id": "3DWz0a_Ou8wt"
   },
   "source": [
    "5. Данные по всем 250 фильмам в виде таблицы с колонками"
   ]
  },
  {
   "cell_type": "code",
   "execution_count": 12,
   "id": "MiQZzK5FxgCJ",
   "metadata": {
    "id": "MiQZzK5FxgCJ"
   },
   "outputs": [],
   "source": [
    "ratings = list(map(lambda x: float(x.text) ,ratings))"
   ]
  },
  {
   "cell_type": "code",
   "execution_count": 13,
   "id": "-UDdudOYx7Ju",
   "metadata": {
    "id": "-UDdudOYx7Ju"
   },
   "outputs": [],
   "source": [
    "years = list(map(lambda x: int(x.find('span', class_='secondaryInfo').text.strip('()')), names_of_film))"
   ]
  },
  {
   "cell_type": "code",
   "execution_count": 14,
   "id": "cZXdyiEDu8Na",
   "metadata": {
    "id": "cZXdyiEDu8Na"
   },
   "outputs": [],
   "source": [
    "names_of_films = list(map(lambda x: x.find('a').text, names_of_film))"
   ]
  },
  {
   "cell_type": "code",
   "execution_count": 15,
   "id": "yGNJrXAl5mNR",
   "metadata": {
    "colab": {
     "base_uri": "https://localhost:8080/",
     "height": 455
    },
    "id": "yGNJrXAl5mNR",
    "outputId": "dfce9507-e7dc-438a-a306-2a9399de23a2"
   },
   "outputs": [
    {
     "data": {
      "text/html": [
       "<div>\n",
       "<style scoped>\n",
       "    .dataframe tbody tr th:only-of-type {\n",
       "        vertical-align: middle;\n",
       "    }\n",
       "\n",
       "    .dataframe tbody tr th {\n",
       "        vertical-align: top;\n",
       "    }\n",
       "\n",
       "    .dataframe thead th {\n",
       "        text-align: right;\n",
       "    }\n",
       "</style>\n",
       "<table border=\"1\" class=\"dataframe\">\n",
       "  <thead>\n",
       "    <tr style=\"text-align: right;\">\n",
       "      <th></th>\n",
       "      <th>Name</th>\n",
       "      <th>Year</th>\n",
       "      <th>Rating</th>\n",
       "      <th>Number of viewers</th>\n",
       "      <th>Director</th>\n",
       "    </tr>\n",
       "    <tr>\n",
       "      <th>Rank</th>\n",
       "      <th></th>\n",
       "      <th></th>\n",
       "      <th></th>\n",
       "      <th></th>\n",
       "      <th></th>\n",
       "    </tr>\n",
       "  </thead>\n",
       "  <tbody>\n",
       "    <tr>\n",
       "      <th>1</th>\n",
       "      <td>The Shawshank Redemption</td>\n",
       "      <td>1994</td>\n",
       "      <td>9.2</td>\n",
       "      <td>2720798</td>\n",
       "      <td>Frank Darabont</td>\n",
       "    </tr>\n",
       "    <tr>\n",
       "      <th>2</th>\n",
       "      <td>The Godfather</td>\n",
       "      <td>1972</td>\n",
       "      <td>9.2</td>\n",
       "      <td>1890749</td>\n",
       "      <td>Francis Ford Coppola</td>\n",
       "    </tr>\n",
       "    <tr>\n",
       "      <th>3</th>\n",
       "      <td>The Dark Knight</td>\n",
       "      <td>2008</td>\n",
       "      <td>9.0</td>\n",
       "      <td>2693621</td>\n",
       "      <td>Christopher Nolan</td>\n",
       "    </tr>\n",
       "    <tr>\n",
       "      <th>4</th>\n",
       "      <td>The Godfather Part II</td>\n",
       "      <td>1974</td>\n",
       "      <td>9.0</td>\n",
       "      <td>1290004</td>\n",
       "      <td>Francis Ford Coppola</td>\n",
       "    </tr>\n",
       "    <tr>\n",
       "      <th>5</th>\n",
       "      <td>12 Angry Men</td>\n",
       "      <td>1957</td>\n",
       "      <td>9.0</td>\n",
       "      <td>804270</td>\n",
       "      <td>Sidney Lumet</td>\n",
       "    </tr>\n",
       "    <tr>\n",
       "      <th>...</th>\n",
       "      <td>...</td>\n",
       "      <td>...</td>\n",
       "      <td>...</td>\n",
       "      <td>...</td>\n",
       "      <td>...</td>\n",
       "    </tr>\n",
       "    <tr>\n",
       "      <th>246</th>\n",
       "      <td>The Iron Giant</td>\n",
       "      <td>1999</td>\n",
       "      <td>8.0</td>\n",
       "      <td>205888</td>\n",
       "      <td>Brad Bird</td>\n",
       "    </tr>\n",
       "    <tr>\n",
       "      <th>247</th>\n",
       "      <td>The Help</td>\n",
       "      <td>2011</td>\n",
       "      <td>8.0</td>\n",
       "      <td>468092</td>\n",
       "      <td>Tate Taylor</td>\n",
       "    </tr>\n",
       "    <tr>\n",
       "      <th>248</th>\n",
       "      <td>Dersu Uzala</td>\n",
       "      <td>1975</td>\n",
       "      <td>8.0</td>\n",
       "      <td>31388</td>\n",
       "      <td>Akira Kurosawa</td>\n",
       "    </tr>\n",
       "    <tr>\n",
       "      <th>249</th>\n",
       "      <td>Aladdin</td>\n",
       "      <td>1992</td>\n",
       "      <td>8.0</td>\n",
       "      <td>431169</td>\n",
       "      <td>Ron Clements</td>\n",
       "    </tr>\n",
       "    <tr>\n",
       "      <th>250</th>\n",
       "      <td>Dances with Wolves</td>\n",
       "      <td>1990</td>\n",
       "      <td>8.0</td>\n",
       "      <td>273444</td>\n",
       "      <td>Kevin Costner</td>\n",
       "    </tr>\n",
       "  </tbody>\n",
       "</table>\n",
       "<p>250 rows × 5 columns</p>\n",
       "</div>"
      ],
      "text/plain": [
       "                          Name  Year  Rating  Number of viewers  \\\n",
       "Rank                                                              \n",
       "1     The Shawshank Redemption  1994     9.2            2720798   \n",
       "2                The Godfather  1972     9.2            1890749   \n",
       "3              The Dark Knight  2008     9.0            2693621   \n",
       "4        The Godfather Part II  1974     9.0            1290004   \n",
       "5                 12 Angry Men  1957     9.0             804270   \n",
       "...                        ...   ...     ...                ...   \n",
       "246             The Iron Giant  1999     8.0             205888   \n",
       "247                   The Help  2011     8.0             468092   \n",
       "248                Dersu Uzala  1975     8.0              31388   \n",
       "249                    Aladdin  1992     8.0             431169   \n",
       "250         Dances with Wolves  1990     8.0             273444   \n",
       "\n",
       "                  Director  \n",
       "Rank                        \n",
       "1           Frank Darabont  \n",
       "2     Francis Ford Coppola  \n",
       "3        Christopher Nolan  \n",
       "4     Francis Ford Coppola  \n",
       "5             Sidney Lumet  \n",
       "...                    ...  \n",
       "246              Brad Bird  \n",
       "247            Tate Taylor  \n",
       "248         Akira Kurosawa  \n",
       "249           Ron Clements  \n",
       "250          Kevin Costner  \n",
       "\n",
       "[250 rows x 5 columns]"
      ]
     },
     "execution_count": 15,
     "metadata": {},
     "output_type": "execute_result"
    }
   ],
   "source": [
    "df = pd.DataFrame({\n",
    "    'Name':names_of_films,\n",
    "    'Year':years,\n",
    "    'Rating':ratings,\n",
    "    'Number of viewers':people_num,\n",
    "    'Director':directors\n",
    "})\n",
    "\n",
    "df.index += 1\n",
    "df.index.name = \"Rank\"\n",
    "\n",
    "df"
   ]
  },
  {
   "cell_type": "code",
   "execution_count": 16,
   "id": "wUwNszg37FVV",
   "metadata": {
    "id": "wUwNszg37FVV"
   },
   "outputs": [],
   "source": [
    "df.to_csv('../data/Top_250_IMDb.csv', index=True)"
   ]
  },
  {
   "cell_type": "markdown",
   "id": "96e54c97-6af4-43f0-ad8f-6f23bbd7a829",
   "metadata": {
    "id": "96e54c97-6af4-43f0-ad8f-6f23bbd7a829"
   },
   "source": [
    "# Задание 2 (10 баллов)"
   ]
  },
  {
   "cell_type": "markdown",
   "id": "3296f02c-0c22-4460-a537-d202676c96ba",
   "metadata": {
    "id": "3296f02c-0c22-4460-a537-d202676c96ba"
   },
   "source": [
    "Напишите декоратор `telegram_logger`, который будет логировать запуски декорируемых функций и отправлять сообщения в телеграм.\n",
    "\n",
    "\n",
    "Вся информация про API телеграм ботов есть в официальной документации, начать изучение можно с [этой страницы](https://core.telegram.org/bots#how-do-bots-work) (разделы \"How Do Bots Work?\" и \"How Do I Create a Bot?\"), далее идите в [API reference](https://core.telegram.org/bots/api)\n",
    "\n",
    "**Основной функционал:**\n",
    "1. Декоратор должен принимать **один обязательный аргумент** &mdash; ваш **CHAT_ID** в телеграме. Как узнать свой **CHAT_ID** можно найти в интернете\n",
    "2. В сообщении об успешно завершённой функции должны быть указаны её **имя** и **время выполнения**\n",
    "3. В сообщении о функции, завершившейся с исключением, должно быть указано **имя функции**, **тип** и **текст ошибки**\n",
    "4. Ключевые элементы сообщения должны быть выделены **как код** (см. скриншот), форматирование остальных элементов по вашему желанию\n",
    "5. Время выполнения менее 1 дня отображается как `HH:MM:SS.μμμμμμ`, время выполнения более 1 дня как `DDD days, HH:MM:SS`. Писать форматирование самим не нужно, всё уже где-то сделано за вас\n",
    "\n",
    "**Дополнительный функционал:**\n",
    "1. К сообщению также должен быть прикреплён **файл**, содержащий всё, что декорируемая функция записывала в `stdout` и `stderr` во время выполнения. Имя файла это имя декорируемой функции с расширением `.log` (**+3 дополнительных балла**)\n",
    "2. Реализовать предыдущий пункт, не создавая файлов на диске (**+2 дополнительных балла**)\n",
    "3. Если функция ничего не печатает в `stdout` и `stderr` &mdash; отправлять файл не нужно\n",
    "\n",
    "**Важные примечания:**\n",
    "1. Ни в коем случае не храните свой API токен в коде и не загружайте его ни в каком виде свой в репозиторий. Сохраните его в **переменной окружения** `TG_API_TOKEN`, тогда его можно будет получить из кода при помощи `os.getenv(\"TG_API_TOKEN\")`. Ручное создание переменных окружения может быть не очень удобным, поэтому можете воспользоваться функцией `load_dotenv` из модуля [dotenv](https://pypi.org/project/python-dotenv/). В доке всё написано, но если коротко, то нужно создать файл `.env` в текущей папке и записать туда `TG_API_TOKEN=<your_token>`, тогда вызов `load_dotenv()` создаст переменные окружения из всех переменных в файле. Это довольно часто используемый способ хранения ключей и прочих приватных данных\n",
    "2. Функцию `long_lasting_function` из примера по понятным причинам запускать не нужно. Достаточно просто убедится, что большие временные интервалы правильно форматируются при отправке сообщения (как в примерах)\n",
    "3. Допустима реализация логирования, когда логгер полностью перехватывает запись в `stdout` и `stderr` (то есть при выполнении функций печать происходит **только** в файл)\n",
    "4. В реальной жизни вам не нужно использовать Telegram API при помощи ручных запросов, вместо этого стоит всегда использовать специальные библиотеки Python, реализующие Telegram API, они более высокоуровневые и удобные. В данном задании мы просто учимся работать с API при помощи написания велосипеда.\n",
    "5. Обязательно прочтите часть конспекта лекции про API перед выполнением задания, так как мы довольно поверхностно затронули это на лекции\n",
    "\n",
    "**Рекомендуемые к использованию модули:**\n",
    "1. os\n",
    "2. sys\n",
    "3. io\n",
    "4. datetime\n",
    "5. requests\n",
    "6. dotenv\n",
    "\n",
    "**Запрещённые модули**:\n",
    "1. Любые библиотеки, реализующие Telegram API в Python (*python-telegram-bot, Telethon, pyrogram, aiogram, telebot* и так далле...)\n",
    "2. Библиотеки, занимающиеся \"перехватыванием\" данных из `stdout` и `stderr` (*pytest-capturelog, contextlib, logging*  и так далле...)\n",
    "\n",
    "\n",
    "\n",
    "Результат запуска кода ниже должен быть примерно такой:\n",
    "\n",
    "![image.png](attachment:620850d6-6407-4e00-8e43-5f563803d7a5.png)\n",
    "\n",
    "![image.png](attachment:65271777-1100-44a5-bdd2-bcd19a6f50a5.png)\n",
    "\n",
    "![image.png](attachment:e423686d-5666-4d81-8890-41c3e7b53e43.png)"
   ]
  },
  {
   "cell_type": "code",
   "execution_count": 1,
   "id": "CHJop_GqUDjh",
   "metadata": {
    "id": "CHJop_GqUDjh"
   },
   "outputs": [],
   "source": [
    "import sys\n",
    "import time\n",
    "import os\n",
    "import requests\n",
    "import io\n",
    "import datetime\n",
    "from dotenv import load_dotenv"
   ]
  },
  {
   "cell_type": "code",
   "execution_count": 2,
   "id": "c45d4cc5",
   "metadata": {
    "id": "8c1719be-44c8-4051-81e2-8695ae212b25",
    "tags": []
   },
   "outputs": [],
   "source": [
    "load_dotenv()\n",
    "\n",
    "my_id = os.getenv(\"id\")\n",
    "bot_token = os.getenv(\"bot_token\")"
   ]
  },
  {
   "cell_type": "code",
   "execution_count": 3,
   "id": "8c1719be-44c8-4051-81e2-8695ae212b25",
   "metadata": {
    "id": "8c1719be-44c8-4051-81e2-8695ae212b25",
    "tags": []
   },
   "outputs": [],
   "source": [
    "def telegram_logger(chat_id):\n",
    "    def decorator(func):\n",
    "        def inner_func():\n",
    "            \n",
    "            with io.StringIO() as log:\n",
    "    \n",
    "                log.name = f'{func.__name__}.log'\n",
    "\n",
    "                save_stdout = sys.stdout\n",
    "                save_stderr = sys.stderr\n",
    "                sys.stdout = log\n",
    "                sys.stderr = log\n",
    "                \n",
    "                try:\n",
    "                    start = datetime.datetime.now()\n",
    "                    func()\n",
    "                except Exception as error:\n",
    "                    end = datetime.datetime.now()\n",
    "                    caption = f'Error was raised in <code>{func.__name__}</code>:\\n<code>{repr(error)}</code>\\nexecution time = {end - start}'\n",
    "                else:\n",
    "                    end = datetime.datetime.now()\n",
    "                    caption = f'Everything is okay in <code>{func.__name__}</code>\\nexecution time = {end - start}'  \n",
    "                \n",
    "                sys.stdout = save_stdout\n",
    "                sys.stderr = save_stderr \n",
    "                \n",
    "                if log.tell():\n",
    "                    log.seek(0)\n",
    "                    requests.post(f'{bot_token}sendDocument', \n",
    "                                  params = {\"chat_id\":chat_id, \n",
    "                                            \"caption\":caption,\n",
    "                                            'parse_mode':'HTML'}, \n",
    "                                  files={'document':log})\n",
    "               \n",
    "                else:\n",
    "                    log.seek(0)\n",
    "                    requests.post(f'{bot_token}sendMessage', \n",
    "                                  params = {\"chat_id\":my_id, \n",
    "                                            'parse_mode':'HTML',\n",
    "                                            'text':caption})\n",
    "\n",
    "        return inner_func\n",
    "    return decorator\n",
    "\n",
    "\n",
    "@telegram_logger(chat_id=my_id)\n",
    "def good_function():\n",
    "    print(\"This goes to stdout\")\n",
    "    print(\"And this goes to stderr\", file=sys.stderr)\n",
    "    time.sleep(2)\n",
    "    print(\"Wake up, Neo\")\n",
    "\n",
    "@telegram_logger(chat_id=my_id)\n",
    "def bad_function():\n",
    "    print(\"Some text to stdout\")\n",
    "    time.sleep(2)\n",
    "    print(\"Some text to stderr\", file=sys.stderr)\n",
    "    raise RuntimeError(\"Ooops, exception here!\")\n",
    "    print(\"This text follows exception and should not appear in logs\")\n",
    "    \n",
    "@telegram_logger(chat_id=my_id)\n",
    "def long_lasting_function():\n",
    "    time.sleep(200000000)\n",
    "\n",
    "\n",
    "    # my own function to test\n",
    "@telegram_logger(chat_id=my_id)\n",
    "def nothing_post():\n",
    "    time.sleep(3)\n",
    "\n",
    "\n",
    "good_function()\n",
    "\n",
    "nothing_post()\n",
    "\n",
    "try:\n",
    "    bad_function()\n",
    "except Exception:\n",
    "    pass"
   ]
  },
  {
   "cell_type": "code",
   "execution_count": 4,
   "id": "37f77a5f",
   "metadata": {},
   "outputs": [
    {
     "data": {
      "text/plain": [
       "<Response [200]>"
      ]
     },
     "execution_count": 4,
     "metadata": {},
     "output_type": "execute_result"
    }
   ],
   "source": [
    "long_time = f'{datetime.timedelta(seconds=200000000)}'\n",
    "text = f'Time format test:\\n<i>{long_time}</i>'  \n",
    "\n",
    "requests.post(f'{bot_token}sendMessage', \n",
    "              params = {\"chat_id\":my_id, \n",
    "                        'parse_mode':'HTML',\n",
    "                        'text':text})"
   ]
  },
  {
   "cell_type": "markdown",
   "id": "33c5d612",
   "metadata": {},
   "source": [
    "## Скрины с сообщениями смотрите в директории *data/messages*"
   ]
  },
  {
   "cell_type": "markdown",
   "id": "69f2a9fb-55dd-4493-a9cc-8ef70cbe6d4b",
   "metadata": {
    "id": "69f2a9fb-55dd-4493-a9cc-8ef70cbe6d4b"
   },
   "source": [
    "# Задание 3\n",
    "\n",
    "В данном задании от вас потребуется сделать Python API для какого-либо сервиса\n",
    "\n",
    "В задании предложено два варианта: простой и сложный, **выберите только один** из них.\n",
    "\n",
    "Можно использовать только **модули стандартной библиотеки** и **requests**. Любые другие модули можно по согласованию с преподавателем."
   ]
  },
  {
   "cell_type": "markdown",
   "id": "89661f9a-f2d2-4b9b-ad65-a043623ce8a7",
   "metadata": {
    "id": "89661f9a-f2d2-4b9b-ad65-a043623ce8a7"
   },
   "source": [
    "❗❗❗ В **данном задании** требуется оформить код в виде отдельного модуля (как будто вы пишете свою библиотеку). Код в ноутбуке проверяться не будет ❗❗❗"
   ]
  },
  {
   "cell_type": "markdown",
   "id": "68fab3fe-8d02-456e-ae97-ecece564b1cd",
   "metadata": {
    "id": "68fab3fe-8d02-456e-ae97-ecece564b1cd"
   },
   "source": [
    "## Вариант 1 (простой, 10 баллов)\n",
    "\n",
    "В данном задании вам потребуется сделать Python API для сервиса http://hollywood.mit.edu/GENSCAN.html\n",
    "\n",
    "Он способен находить и вырезать интроны в переданной нуклеотидной последовательности. Делает он это не очень хорошо, но это лучше, чем ничего. К тому же у него действительно нет публичного API.\n",
    "\n",
    "Реализуйте следующую функцию:\n",
    "`run_genscan(sequence=None, sequence_file=None, organism=\"Vertebrate\", exon_cutoff=1.00, sequence_name=\"\")` &mdash; выполняет запрос аналогичный заполнению формы на сайте. Принимает на вход все параметры, которые можно указать на сайте (кроме Print options). `sequence` &mdash; последовательность в виде строки или любого удобного вам типа данных, `sequence_file` &mdash; путь к файлу с последовательностью, который может быть загружен и использован вместо `sequence`. Функция должна будет возвращать объект типа `GenscanOutput`. Про него дальше.\n",
    "\n",
    "Реализуйте **датакласс** `GenscanOutput`, у него должны быть следующие поля:\n",
    "+ `status` &mdash; статус запроса\n",
    "+ `cds_list` &mdash; список предсказанных белковых последовательностей с учётом сплайсинга (в самом конце результатов с сайта)\n",
    "+ `intron_list` &mdash; список найденных интронов. Один интрон можно представить любым типом данных, но он должен хранить информацию о его порядковом номере, его начале и конце. Информацию о интронах можно получить из первой таблицы в результатах на сайте.\n",
    "+ `exon_list` &mdash; всё аналогично интронам, но только с экзонами.\n",
    "\n",
    "По желанию можно добавить любые данные, которые вы найдёте в результатах"
   ]
  },
  {
   "cell_type": "markdown",
   "id": "bfbe6907",
   "metadata": {
    "id": "fc2beee9-cc4e-45d7-a3a8-ac253f69c145"
   },
   "source": [
    "# Look genescan_module directory"
   ]
  },
  {
   "cell_type": "code",
   "execution_count": null,
   "id": "b9b5e48b",
   "metadata": {},
   "outputs": [],
   "source": []
  }
 ],
 "metadata": {
  "colab": {
   "provenance": []
  },
  "kernelspec": {
   "display_name": "Python 3 (ipykernel)",
   "language": "python",
   "name": "python3"
  },
  "language_info": {
   "codemirror_mode": {
    "name": "ipython",
    "version": 3
   },
   "file_extension": ".py",
   "mimetype": "text/x-python",
   "name": "python",
   "nbconvert_exporter": "python",
   "pygments_lexer": "ipython3",
   "version": "3.10.6"
  }
 },
 "nbformat": 4,
 "nbformat_minor": 5
}
