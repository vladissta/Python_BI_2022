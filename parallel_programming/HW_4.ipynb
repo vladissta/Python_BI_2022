{
 "cells": [
  {
   "cell_type": "markdown",
   "id": "807eeb67-c734-4bd7-87aa-573d1d55366d",
   "metadata": {
    "id": "807eeb67-c734-4bd7-87aa-573d1d55366d"
   },
   "source": [
    "В формулировке заданий будет использоваться понятие **worker**. Это слово обозначает какую-то единицу параллельного выполнения, в случае питона это может быть **поток** или **процесс**, выбирайте то, что лучше будет подходить к конкретной задаче\n",
    "\n",
    "В каждом задании нужно писать подробные аннотиции типов для:\n",
    "1. Аргументов функций и классов\n",
    "2. Возвращаемых значений\n",
    "3. Классовых атрибутов (если такие есть)\n",
    "\n",
    "В каждом задании нужно писать докстроки в определённом стиле (какой вам больше нравится) для всех функций, классов и методов"
   ]
  },
  {
   "cell_type": "markdown",
   "id": "6d3b4f3a-f226-4ea4-a39f-dfb6e45bd983",
   "metadata": {
    "id": "6d3b4f3a-f226-4ea4-a39f-dfb6e45bd983"
   },
   "source": [
    "# Задание 1 (7 баллов)"
   ]
  },
  {
   "cell_type": "markdown",
   "id": "ba5a5046-e619-4e55-8a36-f0e72f7f8d4a",
   "metadata": {
    "id": "ba5a5046-e619-4e55-8a36-f0e72f7f8d4a"
   },
   "source": [
    "В одном из заданий по ML от вас требовалось написать кастомную реализацию Random Forest. Её проблема состоит в том, что она работает медленно, так как использует всего один поток для работы. Добавление параллельного программирования в код позволит получить существенный прирост в скорости обучения и предсказаний.\n",
    "\n",
    "В данном задании от вас требуется добавить возможность обучать случайный лес параллельно и использовать параллелизм для предсказаний. Для этого вам понадобится:\n",
    "1. Добавить аргумент `n_jobs` в метод `fit`. `n_jobs` показывает количество worker'ов, используемых для распараллеливания\n",
    "2. Добавить аргумент `n_jobs` в методы `predict` и `predict_proba`\n",
    "3. Реализовать функционал по распараллеливанию в данных методах\n",
    "\n",
    "В результате код `random_forest.fit(X, y, n_jobs=2)` и `random_forest.predict(X, y, n_jobs=2)` должен работать в ~1.5-2 раза быстрее, чем `random_forest.fit(X, y, n_jobs=1)` и `random_forest.predict(X, y, n_jobs=1)` соответственно\n",
    "\n",
    "Если у вас по каким-то причинам нет кода случайного леса из ДЗ по ML, то вы можете написать его заново или попросить у однокурсника. *Детали* реализации ML части оцениваться не будут, НО, если вы поломаете логику работы алгоритма во время реализации параллелизма, то за это будут сниматься баллы\n",
    "\n",
    "В задании можно использовать только модули из **стандартной библиотеки** питона, а также функции и классы из **sklearn** при помощи которых вы изначально писали лес"
   ]
  },
  {
   "cell_type": "code",
   "execution_count": 1,
   "id": "6d37b54b",
   "metadata": {
    "id": "af9d8b2d-3b0f-4789-a5f3-dfad537c916e"
   },
   "outputs": [],
   "source": [
    "from sklearn.base import BaseEstimator\n",
    "from sklearn.datasets import make_classification\n",
    "from sklearn.tree import DecisionTreeClassifier\n",
    "\n",
    "import numpy as np"
   ]
  },
  {
   "cell_type": "code",
   "execution_count": 2,
   "id": "a8e86d3e",
   "metadata": {},
   "outputs": [],
   "source": [
    "import threading\n",
    "from concurrent.futures import ThreadPoolExecutor"
   ]
  },
  {
   "cell_type": "code",
   "execution_count": 3,
   "id": "af9d8b2d-3b0f-4789-a5f3-dfad537c916e",
   "metadata": {
    "id": "af9d8b2d-3b0f-4789-a5f3-dfad537c916e"
   },
   "outputs": [],
   "source": [
    "class RandomForestClassifierCustom(BaseEstimator):\n",
    "    \n",
    "    def __init__(self, n_estimators: int = 10, max_depth: int = None, \n",
    "                 max_features: int = None, random_state: int = 42):\n",
    "        \n",
    "        self.n_estimators = n_estimators\n",
    "        self.max_depth = max_depth\n",
    "        self.max_features = max_features\n",
    "        self.random_state = random_state\n",
    "\n",
    "        self.trees = []\n",
    "        self.feat_ids_by_tree = []\n",
    "\n",
    "    def fit(self, X: np.ndarray, y: np.ndarray, n_jobs: int = 1):\n",
    "        \n",
    "        self.classes_ = sorted(np.unique(y))\n",
    "        \n",
    "        def one_thread_fit(self, X: np.ndarray, y: np.ndarray):\n",
    "                \n",
    "                np.random.seed(self.random_state)\n",
    "                \n",
    "                feats_rsm = np.random.choice(X.shape[1], \n",
    "                                             self.max_features,\n",
    "                                             replace=False)\n",
    "\n",
    "                self.feat_ids_by_tree.append(feats_rsm)\n",
    "\n",
    "                boot_idx = np.random.choice(X.shape[0], \n",
    "                                            size=X.shape[0],\n",
    "                                            replace=True)\n",
    "\n",
    "                X_boot = X[boot_idx][:,feats_rsm]\n",
    "                y_boot = y[boot_idx]\n",
    "\n",
    "                dtc = DecisionTreeClassifier(max_depth=self.max_depth, \n",
    "                                       max_features=self.max_features,\n",
    "                                       random_state=self.random_state)\n",
    "                dtc.fit(X_boot, y_boot)\n",
    "                self.trees.append(dtc)\n",
    "        \n",
    "        \n",
    "        with ThreadPoolExecutor(n_jobs) as pool:\n",
    "            \n",
    "            pool.map(one_thread_fit,\n",
    "                     [self] * (self.n_estimators + 1),\n",
    "                     [X] * (self.n_estimators + 1), \n",
    "                     [y] * (self.n_estimators + 1))\n",
    "            \n",
    "        return self\n",
    "        \n",
    "        \n",
    "    def predict_proba(self, X: np.ndarray, n_jobs: int = 1):\n",
    "        \n",
    "        probs = []\n",
    "        \n",
    "        def one_thread_predict_proba(self, X: np.ndarray, i: int):\n",
    "            probs.append(self.trees[i].predict_proba(X[:,self.feat_ids_by_tree[i]]))\n",
    "        \n",
    "            \n",
    "        with ThreadPoolExecutor(n_jobs) as pool:\n",
    "            \n",
    "            pool.map(one_thread_predict_proba,\n",
    "                     [self] * (self.n_estimators + 1),\n",
    "                     [X] * (self.n_estimators + 1), \n",
    "                     [i for i in range(self.n_estimators + 1)])\n",
    "        \n",
    "        return(np.mean(probs, axis=0))\n",
    "    \n",
    "    def predict(self, X: np.ndarray, n_jobs: int = 1):\n",
    "        \n",
    "        probas = self.predict_proba(X, n_jobs=n_jobs)\n",
    "        predictions = np.argmax(probas, axis=1)\n",
    "        return predictions\n",
    "    \n",
    "\n",
    "X, y = make_classification(n_samples=100000)"
   ]
  },
  {
   "cell_type": "code",
   "execution_count": 4,
   "id": "5eecd633-1ae5-49fb-8cd0-4fd4ec1d6c24",
   "metadata": {
    "id": "5eecd633-1ae5-49fb-8cd0-4fd4ec1d6c24"
   },
   "outputs": [],
   "source": [
    "random_forest = RandomForestClassifierCustom(max_depth=30, n_estimators=10, max_features=2, random_state=42)"
   ]
  },
  {
   "cell_type": "code",
   "execution_count": 5,
   "id": "85861ddf-1fdd-4dce-8e91-67e2a20e294d",
   "metadata": {
    "id": "85861ddf-1fdd-4dce-8e91-67e2a20e294d",
    "outputId": "94f33124-7457-419f-9ce9-255453e2ba7a"
   },
   "outputs": [
    {
     "name": "stdout",
     "output_type": "stream",
     "text": [
      "CPU times: user 4.75 s, sys: 20.4 ms, total: 4.77 s\n",
      "Wall time: 4.77 s\n"
     ]
    }
   ],
   "source": [
    "%%time\n",
    "\n",
    "_ = random_forest.fit(X, y, n_jobs=1)"
   ]
  },
  {
   "cell_type": "code",
   "execution_count": 6,
   "id": "04e62ac4-91d0-4cac-9de9-b4be0b582e7b",
   "metadata": {
    "id": "04e62ac4-91d0-4cac-9de9-b4be0b582e7b",
    "outputId": "6dde0f7e-a31f-437f-d7ca-7b904988c4bd"
   },
   "outputs": [
    {
     "name": "stdout",
     "output_type": "stream",
     "text": [
      "CPU times: user 171 ms, sys: 8.44 ms, total: 180 ms\n",
      "Wall time: 179 ms\n"
     ]
    }
   ],
   "source": [
    "%%time\n",
    "\n",
    "preds_1 = random_forest.predict(X, n_jobs=1)"
   ]
  },
  {
   "cell_type": "code",
   "execution_count": 7,
   "id": "a4696384-b02b-4195-8ca7-60ae55aed197",
   "metadata": {
    "id": "a4696384-b02b-4195-8ca7-60ae55aed197"
   },
   "outputs": [],
   "source": [
    "random_forest = RandomForestClassifierCustom(max_depth=30, n_estimators=10, max_features=2, random_state=42)"
   ]
  },
  {
   "cell_type": "code",
   "execution_count": 8,
   "id": "9f14517f-7a80-4219-aff6-90097b59b085",
   "metadata": {
    "id": "9f14517f-7a80-4219-aff6-90097b59b085",
    "outputId": "7cb6e6ea-be65-42ce-c91a-1ddca87812a1"
   },
   "outputs": [
    {
     "name": "stdout",
     "output_type": "stream",
     "text": [
      "CPU times: user 4.87 s, sys: 15.2 ms, total: 4.88 s\n",
      "Wall time: 2.66 s\n"
     ]
    }
   ],
   "source": [
    "%%time\n",
    "\n",
    "_ = random_forest.fit(X, y, n_jobs=2)"
   ]
  },
  {
   "cell_type": "code",
   "execution_count": 9,
   "id": "c7f01f97-4ad4-4bed-a977-c8bd3ae962fd",
   "metadata": {
    "id": "c7f01f97-4ad4-4bed-a977-c8bd3ae962fd",
    "outputId": "5f7f0737-9b1d-4108-a558-76491705d30a"
   },
   "outputs": [
    {
     "name": "stdout",
     "output_type": "stream",
     "text": [
      "CPU times: user 175 ms, sys: 5.79 ms, total: 181 ms\n",
      "Wall time: 99.7 ms\n"
     ]
    }
   ],
   "source": [
    "%%time\n",
    "\n",
    "preds_2 = random_forest.predict(X, n_jobs=2)"
   ]
  },
  {
   "cell_type": "code",
   "execution_count": 10,
   "id": "547ba1fd-9535-4267-93f8-3cc927f71e03",
   "metadata": {
    "id": "547ba1fd-9535-4267-93f8-3cc927f71e03",
    "outputId": "1c8aaf79-5f6b-416c-d902-d4ed1784007d"
   },
   "outputs": [
    {
     "data": {
      "text/plain": [
       "True"
      ]
     },
     "execution_count": 10,
     "metadata": {},
     "output_type": "execute_result"
    }
   ],
   "source": [
    "(preds_1 == preds_2).all()# Количество worker'ов не должно влиять на предсказания"
   ]
  },
  {
   "cell_type": "markdown",
   "id": "0a2ea6af-f73d-436a-94d9-f7310ac9a4e6",
   "metadata": {
    "id": "0a2ea6af-f73d-436a-94d9-f7310ac9a4e6"
   },
   "source": [
    "#### Какие есть недостатки у вашей реализации параллельного Random Forest (если они есть)? Как это можно исправить? Опишите словами, можно без кода (+1 дополнительный балл)"
   ]
  },
  {
   "cell_type": "markdown",
   "id": "19f2f04d-2c35-4d7d-a8fe-7f88d538fb79",
   "metadata": {
    "id": "19f2f04d-2c35-4d7d-a8fe-7f88d538fb79"
   },
   "source": [
    "Ответ пишите тут"
   ]
  },
  {
   "cell_type": "markdown",
   "id": "f020bb22-a29e-4e39-aba9-d41e79a80732",
   "metadata": {
    "id": "f020bb22-a29e-4e39-aba9-d41e79a80732"
   },
   "source": [
    "# Задание 2 (9 баллов)"
   ]
  },
  {
   "cell_type": "markdown",
   "id": "e3a8a0d2-f35b-4edb-9fb3-61da119255e9",
   "metadata": {
    "id": "e3a8a0d2-f35b-4edb-9fb3-61da119255e9"
   },
   "source": [
    "Напишите декоратор `memory_limit`, который позволит ограничивать использование памяти декорируемой функцией.\n",
    "\n",
    "Декоратор должен принимать следующие аргументы:\n",
    "1. `soft_limit` - \"мягкий\" лимит использования памяти. При превышении функцией этого лимита должен будет отображён **warning**\n",
    "2. `hard_limit` - \"жёсткий\" лимит использования памяти. При превышении функцией этого лимита должно будет брошено исключение, а функция должна немедленно завершить свою работу\n",
    "3. `poll_interval` - интервал времени (в секундах) между проверками использования памяти\n",
    "\n",
    "Требования:\n",
    "1. Потребление функцией памяти должно отслеживаться **во время выполнения функции**, а не после её завершения\n",
    "2. **warning** при превышении `soft_limit` должен отображаться один раз, даже если функция переходила через этот лимит несколько раз\n",
    "3. Если задать `soft_limit` или `hard_limit` как `None`, то соответствующий лимит должен быть отключён\n",
    "4. Лимиты должны передаваться и отображаться в формате `<number>X`, где `X` - символ, обозначающий порядок единицы измерения памяти (\"B\", \"K\", \"M\", \"G\", \"T\", ...)\n",
    "5. В тексте warning'ов и исключений должен быть указан текщий объём используемой памяти и величина превышенного лимита\n",
    "\n",
    "В задании можно использовать только модули из **стандартной библиотеки** питона, можно писать вспомогательные функции и/или классы\n",
    "\n",
    "В коде ниже для вас предопределены некоторые полезные функции, вы можете ими пользоваться, а можете не пользоваться"
   ]
  },
  {
   "cell_type": "code",
   "execution_count": 11,
   "id": "9005251e",
   "metadata": {
    "id": "78299479-f7e3-409c-b144-d9a14bb1715a"
   },
   "outputs": [],
   "source": [
    "import os\n",
    "import psutil\n",
    "import time\n",
    "import warnings\n",
    "import sys\n",
    "from typing import Callable"
   ]
  },
  {
   "cell_type": "code",
   "execution_count": 12,
   "id": "4cbf4cb0",
   "metadata": {
    "id": "78299479-f7e3-409c-b144-d9a14bb1715a"
   },
   "outputs": [],
   "source": [
    "symbols = ('K', 'M', 'G', 'T', 'P', 'E', 'Z', 'Y')\n",
    "prefix = {}\n",
    "for idx, s in enumerate(symbols):\n",
    "    prefix[s] = 1 << (idx + 1) * 10"
   ]
  },
  {
   "cell_type": "code",
   "execution_count": 19,
   "id": "78299479-f7e3-409c-b144-d9a14bb1715a",
   "metadata": {
    "id": "78299479-f7e3-409c-b144-d9a14bb1715a"
   },
   "outputs": [],
   "source": [
    "def get_memory_usage():    # Показывает текущее потребление памяти процессом\n",
    "    process = psutil.Process(os.getpid())\n",
    "    mem_info = process.memory_info()\n",
    "    return mem_info.rss\n",
    "\n",
    "\n",
    "def bytes_to_human_readable(n_bytes: int):\n",
    "\n",
    "    for s in reversed(symbols):\n",
    "        if n_bytes >= prefix[s]:\n",
    "            value = float(n_bytes) / prefix[s]\n",
    "            return f\"{value:.2f}{s}\"\n",
    "    return f\"{n_bytes}B\"\n",
    "\n",
    "\n",
    "def byte_decode(size: str):\n",
    "    num, pref = float(size[:-1]), size[-1]\n",
    "    if pref == 'B':\n",
    "        num_bytes = num \n",
    "    else:\n",
    "        num_bytes = num  * prefix[pref]\n",
    "    \n",
    "    return num_bytes\n",
    "        \n",
    "\n",
    "def memory_limit(soft_limit: int = None, hard_limit: int = None, poll_interval: int = 1):\n",
    "    \n",
    "    def decorator(func: Callable):\n",
    "        \n",
    "        def inner_function():\n",
    "            \n",
    "            thread_func = threading.Thread(target=func)\n",
    "            thread_func.start()\n",
    "            \n",
    "            limit = soft_limit\n",
    "            hard = False\n",
    "            \n",
    "            while True:\n",
    "                mem_usage = get_memory_usage()\n",
    "                if not thread_func.is_alive():\n",
    "                    return\n",
    "                if  mem_usage > byte_decode(limit):\n",
    "                    if hard:\n",
    "                        print(f'Memory limit is reached! Memory used: {bytes_to_human_readable(mem_usage)}')\n",
    "                        return\n",
    "                    else:\n",
    "                        print(f'Warning! Memory used: {bytes_to_human_readable(mem_usage)}')\n",
    "                        limit = hard_limit\n",
    "                        hard = True\n",
    "                        \n",
    "                time.sleep(poll_interval)\n",
    "                \n",
    "        \n",
    "        return inner_function\n",
    "    return decorator"
   ]
  },
  {
   "cell_type": "code",
   "execution_count": 20,
   "id": "e5466565-e46c-425e-a7bc-556a13633a0d",
   "metadata": {
    "id": "e5466565-e46c-425e-a7bc-556a13633a0d"
   },
   "outputs": [],
   "source": [
    "@memory_limit(soft_limit=\"512M\", hard_limit=\"1.5G\", poll_interval=0.1)\n",
    "def memory_increment():\n",
    "    \"\"\"\n",
    "    Функция для тестирования\n",
    "    \n",
    "    В течение нескольких секунд достигает использования памяти 1.89G\n",
    "    Потребление памяти и скорость накопления можно варьировать, изменяя код\n",
    "    \"\"\"\n",
    "    lst = []\n",
    "    for i in range(50000000):\n",
    "        if i % 500000 == 0:\n",
    "            time.sleep(0.1)\n",
    "        lst.append(i)\n",
    "    return lst"
   ]
  },
  {
   "cell_type": "code",
   "execution_count": 21,
   "id": "be7fd1c7",
   "metadata": {},
   "outputs": [
    {
     "name": "stdout",
     "output_type": "stream",
     "text": [
      "Warning! Memory used: 515.43M\n",
      "Memory limit is reached! Memory used: 1.50G\n"
     ]
    }
   ],
   "source": [
    "memory_increment()"
   ]
  },
  {
   "cell_type": "code",
   "execution_count": null,
   "id": "826fa994",
   "metadata": {},
   "outputs": [],
   "source": []
  }
 ],
 "metadata": {
  "colab": {
   "provenance": []
  },
  "kernelspec": {
   "display_name": "Python 3 (ipykernel)",
   "language": "python",
   "name": "python3"
  },
  "language_info": {
   "codemirror_mode": {
    "name": "ipython",
    "version": 3
   },
   "file_extension": ".py",
   "mimetype": "text/x-python",
   "name": "python",
   "nbconvert_exporter": "python",
   "pygments_lexer": "ipython3",
   "version": "3.10.8"
  }
 },
 "nbformat": 4,
 "nbformat_minor": 5
}
